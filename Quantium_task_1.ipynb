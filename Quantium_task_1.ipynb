{
  "cells": [
    {
      "cell_type": "markdown",
      "source": [
        "# Quantium Virtual Internship - Retail Strategy and Analytics - Task 1"
      ],
      "metadata": {
        "id": "w_pjXECHVdvW"
      }
    },
    {
      "cell_type": "code",
      "source": [
        "import pandas as pd\n",
        "import numpy as np\n",
        "\n",
        "#from google.colab import files\n",
        "#files.upload()"
      ],
      "metadata": {
        "id": "gP4J8GNRVj4Y"
      },
      "execution_count": null,
      "outputs": []
    },
    {
      "cell_type": "code",
      "execution_count": null,
      "metadata": {
        "id": "sqwLoCfAE8r2"
      },
      "outputs": [],
      "source": [
        "dft=pd.read_excel(\"QVI_transaction_data.xlsx\")\n",
        "\n",
        "dfp=pd.read_csv(\"QVI_purchase_behaviour.csv\")"
      ]
    },
    {
      "cell_type": "code",
      "execution_count": null,
      "metadata": {
        "colab": {
          "base_uri": "https://localhost:8080/",
          "height": 694
        },
        "id": "44bnIiWP_9Gf",
        "outputId": "13fed57d-868e-4b82-b309-42584ad4f1d8"
      },
      "outputs": [
        {
          "output_type": "stream",
          "name": "stdout",
          "text": [
            "(rows,columns) -  (264836, 8)\n"
          ]
        },
        {
          "output_type": "execute_result",
          "data": {
            "text/plain": [
              "     DATE  STORE_NBR  LYLTY_CARD_NBR  TXN_ID  PROD_NBR  \\\n",
              "0   43390          1            1000       1         5   \n",
              "1   43599          1            1307     348        66   \n",
              "2   43605          1            1343     383        61   \n",
              "3   43329          2            2373     974        69   \n",
              "4   43330          2            2426    1038       108   \n",
              "5   43604          4            4074    2982        57   \n",
              "6   43601          4            4149    3333        16   \n",
              "7   43601          4            4196    3539        24   \n",
              "8   43332          5            5026    4525        42   \n",
              "9   43330          7            7150    6900        52   \n",
              "10  43602          7            7215    7176        16   \n",
              "11  43332          8            8294    8221       114   \n",
              "12  43603          9            9208    8634        15   \n",
              "13  43329         13           13213   12447        92   \n",
              "14  43600         19           19272   16686        44   \n",
              "15  43604         20           20164   17136        54   \n",
              "16  43330         20           20418   17413        94   \n",
              "17  43326         22           22411   18646        98   \n",
              "18  43329         22           22456   18696        93   \n",
              "19  43601         23           23067   19162        56   \n",
              "\n",
              "                                   PROD_NAME  PROD_QTY  TOT_SALES  \n",
              "0     Natural Chip        Compny SeaSalt175g         2        6.0  \n",
              "1                   CCs Nacho Cheese    175g         3        6.3  \n",
              "2     Smiths Crinkle Cut  Chips Chicken 170g         2        2.9  \n",
              "3     Smiths Chip Thinly  S/Cream&Onion 175g         5       15.0  \n",
              "4   Kettle Tortilla ChpsHny&Jlpno Chili 150g         3       13.8  \n",
              "5   Old El Paso Salsa   Dip Tomato Mild 300g         1        5.1  \n",
              "6   Smiths Crinkle Chips Salt & Vinegar 330g         1        5.7  \n",
              "7      Grain Waves         Sweet Chilli 210g         1        3.6  \n",
              "8    Doritos Corn Chip Mexican Jalapeno 150g         1        3.9  \n",
              "9      Grain Waves Sour    Cream&Chives 210G         2        7.2  \n",
              "10  Smiths Crinkle Chips Salt & Vinegar 330g         1        5.7  \n",
              "11     Kettle Sensations   Siracha Lime 150g         5       23.0  \n",
              "12                  Twisties Cheese     270g         2        9.2  \n",
              "13          WW Crinkle Cut      Chicken 175g         1        1.7  \n",
              "14            Thins Chips Light&  Tangy 175g         1        3.3  \n",
              "15                         CCs Original 175g         1        2.1  \n",
              "16                         Burger Rings 220g         4        9.2  \n",
              "17    NCC Sour Cream &    Garden Chives 175g         1        3.0  \n",
              "18   Doritos Corn Chip Southern Chicken 150g         1        3.9  \n",
              "19                  Cheezels Cheese Box 125g         1        2.1  "
            ],
            "text/html": [
              "\n",
              "  <div id=\"df-e2699d75-59ee-4b83-9384-962f7d57d5ac\">\n",
              "    <div class=\"colab-df-container\">\n",
              "      <div>\n",
              "<style scoped>\n",
              "    .dataframe tbody tr th:only-of-type {\n",
              "        vertical-align: middle;\n",
              "    }\n",
              "\n",
              "    .dataframe tbody tr th {\n",
              "        vertical-align: top;\n",
              "    }\n",
              "\n",
              "    .dataframe thead th {\n",
              "        text-align: right;\n",
              "    }\n",
              "</style>\n",
              "<table border=\"1\" class=\"dataframe\">\n",
              "  <thead>\n",
              "    <tr style=\"text-align: right;\">\n",
              "      <th></th>\n",
              "      <th>DATE</th>\n",
              "      <th>STORE_NBR</th>\n",
              "      <th>LYLTY_CARD_NBR</th>\n",
              "      <th>TXN_ID</th>\n",
              "      <th>PROD_NBR</th>\n",
              "      <th>PROD_NAME</th>\n",
              "      <th>PROD_QTY</th>\n",
              "      <th>TOT_SALES</th>\n",
              "    </tr>\n",
              "  </thead>\n",
              "  <tbody>\n",
              "    <tr>\n",
              "      <th>0</th>\n",
              "      <td>43390</td>\n",
              "      <td>1</td>\n",
              "      <td>1000</td>\n",
              "      <td>1</td>\n",
              "      <td>5</td>\n",
              "      <td>Natural Chip        Compny SeaSalt175g</td>\n",
              "      <td>2</td>\n",
              "      <td>6.0</td>\n",
              "    </tr>\n",
              "    <tr>\n",
              "      <th>1</th>\n",
              "      <td>43599</td>\n",
              "      <td>1</td>\n",
              "      <td>1307</td>\n",
              "      <td>348</td>\n",
              "      <td>66</td>\n",
              "      <td>CCs Nacho Cheese    175g</td>\n",
              "      <td>3</td>\n",
              "      <td>6.3</td>\n",
              "    </tr>\n",
              "    <tr>\n",
              "      <th>2</th>\n",
              "      <td>43605</td>\n",
              "      <td>1</td>\n",
              "      <td>1343</td>\n",
              "      <td>383</td>\n",
              "      <td>61</td>\n",
              "      <td>Smiths Crinkle Cut  Chips Chicken 170g</td>\n",
              "      <td>2</td>\n",
              "      <td>2.9</td>\n",
              "    </tr>\n",
              "    <tr>\n",
              "      <th>3</th>\n",
              "      <td>43329</td>\n",
              "      <td>2</td>\n",
              "      <td>2373</td>\n",
              "      <td>974</td>\n",
              "      <td>69</td>\n",
              "      <td>Smiths Chip Thinly  S/Cream&amp;Onion 175g</td>\n",
              "      <td>5</td>\n",
              "      <td>15.0</td>\n",
              "    </tr>\n",
              "    <tr>\n",
              "      <th>4</th>\n",
              "      <td>43330</td>\n",
              "      <td>2</td>\n",
              "      <td>2426</td>\n",
              "      <td>1038</td>\n",
              "      <td>108</td>\n",
              "      <td>Kettle Tortilla ChpsHny&amp;Jlpno Chili 150g</td>\n",
              "      <td>3</td>\n",
              "      <td>13.8</td>\n",
              "    </tr>\n",
              "    <tr>\n",
              "      <th>5</th>\n",
              "      <td>43604</td>\n",
              "      <td>4</td>\n",
              "      <td>4074</td>\n",
              "      <td>2982</td>\n",
              "      <td>57</td>\n",
              "      <td>Old El Paso Salsa   Dip Tomato Mild 300g</td>\n",
              "      <td>1</td>\n",
              "      <td>5.1</td>\n",
              "    </tr>\n",
              "    <tr>\n",
              "      <th>6</th>\n",
              "      <td>43601</td>\n",
              "      <td>4</td>\n",
              "      <td>4149</td>\n",
              "      <td>3333</td>\n",
              "      <td>16</td>\n",
              "      <td>Smiths Crinkle Chips Salt &amp; Vinegar 330g</td>\n",
              "      <td>1</td>\n",
              "      <td>5.7</td>\n",
              "    </tr>\n",
              "    <tr>\n",
              "      <th>7</th>\n",
              "      <td>43601</td>\n",
              "      <td>4</td>\n",
              "      <td>4196</td>\n",
              "      <td>3539</td>\n",
              "      <td>24</td>\n",
              "      <td>Grain Waves         Sweet Chilli 210g</td>\n",
              "      <td>1</td>\n",
              "      <td>3.6</td>\n",
              "    </tr>\n",
              "    <tr>\n",
              "      <th>8</th>\n",
              "      <td>43332</td>\n",
              "      <td>5</td>\n",
              "      <td>5026</td>\n",
              "      <td>4525</td>\n",
              "      <td>42</td>\n",
              "      <td>Doritos Corn Chip Mexican Jalapeno 150g</td>\n",
              "      <td>1</td>\n",
              "      <td>3.9</td>\n",
              "    </tr>\n",
              "    <tr>\n",
              "      <th>9</th>\n",
              "      <td>43330</td>\n",
              "      <td>7</td>\n",
              "      <td>7150</td>\n",
              "      <td>6900</td>\n",
              "      <td>52</td>\n",
              "      <td>Grain Waves Sour    Cream&amp;Chives 210G</td>\n",
              "      <td>2</td>\n",
              "      <td>7.2</td>\n",
              "    </tr>\n",
              "    <tr>\n",
              "      <th>10</th>\n",
              "      <td>43602</td>\n",
              "      <td>7</td>\n",
              "      <td>7215</td>\n",
              "      <td>7176</td>\n",
              "      <td>16</td>\n",
              "      <td>Smiths Crinkle Chips Salt &amp; Vinegar 330g</td>\n",
              "      <td>1</td>\n",
              "      <td>5.7</td>\n",
              "    </tr>\n",
              "    <tr>\n",
              "      <th>11</th>\n",
              "      <td>43332</td>\n",
              "      <td>8</td>\n",
              "      <td>8294</td>\n",
              "      <td>8221</td>\n",
              "      <td>114</td>\n",
              "      <td>Kettle Sensations   Siracha Lime 150g</td>\n",
              "      <td>5</td>\n",
              "      <td>23.0</td>\n",
              "    </tr>\n",
              "    <tr>\n",
              "      <th>12</th>\n",
              "      <td>43603</td>\n",
              "      <td>9</td>\n",
              "      <td>9208</td>\n",
              "      <td>8634</td>\n",
              "      <td>15</td>\n",
              "      <td>Twisties Cheese     270g</td>\n",
              "      <td>2</td>\n",
              "      <td>9.2</td>\n",
              "    </tr>\n",
              "    <tr>\n",
              "      <th>13</th>\n",
              "      <td>43329</td>\n",
              "      <td>13</td>\n",
              "      <td>13213</td>\n",
              "      <td>12447</td>\n",
              "      <td>92</td>\n",
              "      <td>WW Crinkle Cut      Chicken 175g</td>\n",
              "      <td>1</td>\n",
              "      <td>1.7</td>\n",
              "    </tr>\n",
              "    <tr>\n",
              "      <th>14</th>\n",
              "      <td>43600</td>\n",
              "      <td>19</td>\n",
              "      <td>19272</td>\n",
              "      <td>16686</td>\n",
              "      <td>44</td>\n",
              "      <td>Thins Chips Light&amp;  Tangy 175g</td>\n",
              "      <td>1</td>\n",
              "      <td>3.3</td>\n",
              "    </tr>\n",
              "    <tr>\n",
              "      <th>15</th>\n",
              "      <td>43604</td>\n",
              "      <td>20</td>\n",
              "      <td>20164</td>\n",
              "      <td>17136</td>\n",
              "      <td>54</td>\n",
              "      <td>CCs Original 175g</td>\n",
              "      <td>1</td>\n",
              "      <td>2.1</td>\n",
              "    </tr>\n",
              "    <tr>\n",
              "      <th>16</th>\n",
              "      <td>43330</td>\n",
              "      <td>20</td>\n",
              "      <td>20418</td>\n",
              "      <td>17413</td>\n",
              "      <td>94</td>\n",
              "      <td>Burger Rings 220g</td>\n",
              "      <td>4</td>\n",
              "      <td>9.2</td>\n",
              "    </tr>\n",
              "    <tr>\n",
              "      <th>17</th>\n",
              "      <td>43326</td>\n",
              "      <td>22</td>\n",
              "      <td>22411</td>\n",
              "      <td>18646</td>\n",
              "      <td>98</td>\n",
              "      <td>NCC Sour Cream &amp;    Garden Chives 175g</td>\n",
              "      <td>1</td>\n",
              "      <td>3.0</td>\n",
              "    </tr>\n",
              "    <tr>\n",
              "      <th>18</th>\n",
              "      <td>43329</td>\n",
              "      <td>22</td>\n",
              "      <td>22456</td>\n",
              "      <td>18696</td>\n",
              "      <td>93</td>\n",
              "      <td>Doritos Corn Chip Southern Chicken 150g</td>\n",
              "      <td>1</td>\n",
              "      <td>3.9</td>\n",
              "    </tr>\n",
              "    <tr>\n",
              "      <th>19</th>\n",
              "      <td>43601</td>\n",
              "      <td>23</td>\n",
              "      <td>23067</td>\n",
              "      <td>19162</td>\n",
              "      <td>56</td>\n",
              "      <td>Cheezels Cheese Box 125g</td>\n",
              "      <td>1</td>\n",
              "      <td>2.1</td>\n",
              "    </tr>\n",
              "  </tbody>\n",
              "</table>\n",
              "</div>\n",
              "      <button class=\"colab-df-convert\" onclick=\"convertToInteractive('df-e2699d75-59ee-4b83-9384-962f7d57d5ac')\"\n",
              "              title=\"Convert this dataframe to an interactive table.\"\n",
              "              style=\"display:none;\">\n",
              "        \n",
              "  <svg xmlns=\"http://www.w3.org/2000/svg\" height=\"24px\"viewBox=\"0 0 24 24\"\n",
              "       width=\"24px\">\n",
              "    <path d=\"M0 0h24v24H0V0z\" fill=\"none\"/>\n",
              "    <path d=\"M18.56 5.44l.94 2.06.94-2.06 2.06-.94-2.06-.94-.94-2.06-.94 2.06-2.06.94zm-11 1L8.5 8.5l.94-2.06 2.06-.94-2.06-.94L8.5 2.5l-.94 2.06-2.06.94zm10 10l.94 2.06.94-2.06 2.06-.94-2.06-.94-.94-2.06-.94 2.06-2.06.94z\"/><path d=\"M17.41 7.96l-1.37-1.37c-.4-.4-.92-.59-1.43-.59-.52 0-1.04.2-1.43.59L10.3 9.45l-7.72 7.72c-.78.78-.78 2.05 0 2.83L4 21.41c.39.39.9.59 1.41.59.51 0 1.02-.2 1.41-.59l7.78-7.78 2.81-2.81c.8-.78.8-2.07 0-2.86zM5.41 20L4 18.59l7.72-7.72 1.47 1.35L5.41 20z\"/>\n",
              "  </svg>\n",
              "      </button>\n",
              "      \n",
              "  <style>\n",
              "    .colab-df-container {\n",
              "      display:flex;\n",
              "      flex-wrap:wrap;\n",
              "      gap: 12px;\n",
              "    }\n",
              "\n",
              "    .colab-df-convert {\n",
              "      background-color: #E8F0FE;\n",
              "      border: none;\n",
              "      border-radius: 50%;\n",
              "      cursor: pointer;\n",
              "      display: none;\n",
              "      fill: #1967D2;\n",
              "      height: 32px;\n",
              "      padding: 0 0 0 0;\n",
              "      width: 32px;\n",
              "    }\n",
              "\n",
              "    .colab-df-convert:hover {\n",
              "      background-color: #E2EBFA;\n",
              "      box-shadow: 0px 1px 2px rgba(60, 64, 67, 0.3), 0px 1px 3px 1px rgba(60, 64, 67, 0.15);\n",
              "      fill: #174EA6;\n",
              "    }\n",
              "\n",
              "    [theme=dark] .colab-df-convert {\n",
              "      background-color: #3B4455;\n",
              "      fill: #D2E3FC;\n",
              "    }\n",
              "\n",
              "    [theme=dark] .colab-df-convert:hover {\n",
              "      background-color: #434B5C;\n",
              "      box-shadow: 0px 1px 3px 1px rgba(0, 0, 0, 0.15);\n",
              "      filter: drop-shadow(0px 1px 2px rgba(0, 0, 0, 0.3));\n",
              "      fill: #FFFFFF;\n",
              "    }\n",
              "  </style>\n",
              "\n",
              "      <script>\n",
              "        const buttonEl =\n",
              "          document.querySelector('#df-e2699d75-59ee-4b83-9384-962f7d57d5ac button.colab-df-convert');\n",
              "        buttonEl.style.display =\n",
              "          google.colab.kernel.accessAllowed ? 'block' : 'none';\n",
              "\n",
              "        async function convertToInteractive(key) {\n",
              "          const element = document.querySelector('#df-e2699d75-59ee-4b83-9384-962f7d57d5ac');\n",
              "          const dataTable =\n",
              "            await google.colab.kernel.invokeFunction('convertToInteractive',\n",
              "                                                     [key], {});\n",
              "          if (!dataTable) return;\n",
              "\n",
              "          const docLinkHtml = 'Like what you see? Visit the ' +\n",
              "            '<a target=\"_blank\" href=https://colab.research.google.com/notebooks/data_table.ipynb>data table notebook</a>'\n",
              "            + ' to learn more about interactive tables.';\n",
              "          element.innerHTML = '';\n",
              "          dataTable['output_type'] = 'display_data';\n",
              "          await google.colab.output.renderOutput(dataTable, element);\n",
              "          const docLink = document.createElement('div');\n",
              "          docLink.innerHTML = docLinkHtml;\n",
              "          element.appendChild(docLink);\n",
              "        }\n",
              "      </script>\n",
              "    </div>\n",
              "  </div>\n",
              "  "
            ]
          },
          "metadata": {},
          "execution_count": 3
        }
      ],
      "source": [
        "print(\"(rows,columns) - \",dft.shape)\n",
        "dft.head(20)"
      ]
    },
    {
      "cell_type": "code",
      "execution_count": null,
      "metadata": {
        "id": "Ff1nk1rALpIq",
        "colab": {
          "base_uri": "https://localhost:8080/",
          "height": 694
        },
        "outputId": "26b64d8c-1f46-43f2-972d-b155c496ed65"
      },
      "outputs": [
        {
          "output_type": "stream",
          "name": "stdout",
          "text": [
            "(rows,columns) -  (72637, 3)\n"
          ]
        },
        {
          "output_type": "execute_result",
          "data": {
            "text/plain": [
              "    LYLTY_CARD_NBR               LIFESTAGE PREMIUM_CUSTOMER\n",
              "0             1000   YOUNG SINGLES/COUPLES          Premium\n",
              "1             1002   YOUNG SINGLES/COUPLES       Mainstream\n",
              "2             1003          YOUNG FAMILIES           Budget\n",
              "3             1004   OLDER SINGLES/COUPLES       Mainstream\n",
              "4             1005  MIDAGE SINGLES/COUPLES       Mainstream\n",
              "5             1007   YOUNG SINGLES/COUPLES           Budget\n",
              "6             1009            NEW FAMILIES          Premium\n",
              "7             1010   YOUNG SINGLES/COUPLES       Mainstream\n",
              "8             1011   OLDER SINGLES/COUPLES       Mainstream\n",
              "9             1012          OLDER FAMILIES       Mainstream\n",
              "10            1013                RETIREES           Budget\n",
              "11            1016          OLDER FAMILIES       Mainstream\n",
              "12            1018   YOUNG SINGLES/COUPLES       Mainstream\n",
              "13            1019   OLDER SINGLES/COUPLES          Premium\n",
              "14            1020   YOUNG SINGLES/COUPLES       Mainstream\n",
              "15            1022          OLDER FAMILIES           Budget\n",
              "16            1023  MIDAGE SINGLES/COUPLES          Premium\n",
              "17            1024   YOUNG SINGLES/COUPLES          Premium\n",
              "18            1025          YOUNG FAMILIES           Budget\n",
              "19            1026  MIDAGE SINGLES/COUPLES          Premium"
            ],
            "text/html": [
              "\n",
              "  <div id=\"df-a7c5e6f1-2b0f-4cfc-a0ec-c427cefc395b\">\n",
              "    <div class=\"colab-df-container\">\n",
              "      <div>\n",
              "<style scoped>\n",
              "    .dataframe tbody tr th:only-of-type {\n",
              "        vertical-align: middle;\n",
              "    }\n",
              "\n",
              "    .dataframe tbody tr th {\n",
              "        vertical-align: top;\n",
              "    }\n",
              "\n",
              "    .dataframe thead th {\n",
              "        text-align: right;\n",
              "    }\n",
              "</style>\n",
              "<table border=\"1\" class=\"dataframe\">\n",
              "  <thead>\n",
              "    <tr style=\"text-align: right;\">\n",
              "      <th></th>\n",
              "      <th>LYLTY_CARD_NBR</th>\n",
              "      <th>LIFESTAGE</th>\n",
              "      <th>PREMIUM_CUSTOMER</th>\n",
              "    </tr>\n",
              "  </thead>\n",
              "  <tbody>\n",
              "    <tr>\n",
              "      <th>0</th>\n",
              "      <td>1000</td>\n",
              "      <td>YOUNG SINGLES/COUPLES</td>\n",
              "      <td>Premium</td>\n",
              "    </tr>\n",
              "    <tr>\n",
              "      <th>1</th>\n",
              "      <td>1002</td>\n",
              "      <td>YOUNG SINGLES/COUPLES</td>\n",
              "      <td>Mainstream</td>\n",
              "    </tr>\n",
              "    <tr>\n",
              "      <th>2</th>\n",
              "      <td>1003</td>\n",
              "      <td>YOUNG FAMILIES</td>\n",
              "      <td>Budget</td>\n",
              "    </tr>\n",
              "    <tr>\n",
              "      <th>3</th>\n",
              "      <td>1004</td>\n",
              "      <td>OLDER SINGLES/COUPLES</td>\n",
              "      <td>Mainstream</td>\n",
              "    </tr>\n",
              "    <tr>\n",
              "      <th>4</th>\n",
              "      <td>1005</td>\n",
              "      <td>MIDAGE SINGLES/COUPLES</td>\n",
              "      <td>Mainstream</td>\n",
              "    </tr>\n",
              "    <tr>\n",
              "      <th>5</th>\n",
              "      <td>1007</td>\n",
              "      <td>YOUNG SINGLES/COUPLES</td>\n",
              "      <td>Budget</td>\n",
              "    </tr>\n",
              "    <tr>\n",
              "      <th>6</th>\n",
              "      <td>1009</td>\n",
              "      <td>NEW FAMILIES</td>\n",
              "      <td>Premium</td>\n",
              "    </tr>\n",
              "    <tr>\n",
              "      <th>7</th>\n",
              "      <td>1010</td>\n",
              "      <td>YOUNG SINGLES/COUPLES</td>\n",
              "      <td>Mainstream</td>\n",
              "    </tr>\n",
              "    <tr>\n",
              "      <th>8</th>\n",
              "      <td>1011</td>\n",
              "      <td>OLDER SINGLES/COUPLES</td>\n",
              "      <td>Mainstream</td>\n",
              "    </tr>\n",
              "    <tr>\n",
              "      <th>9</th>\n",
              "      <td>1012</td>\n",
              "      <td>OLDER FAMILIES</td>\n",
              "      <td>Mainstream</td>\n",
              "    </tr>\n",
              "    <tr>\n",
              "      <th>10</th>\n",
              "      <td>1013</td>\n",
              "      <td>RETIREES</td>\n",
              "      <td>Budget</td>\n",
              "    </tr>\n",
              "    <tr>\n",
              "      <th>11</th>\n",
              "      <td>1016</td>\n",
              "      <td>OLDER FAMILIES</td>\n",
              "      <td>Mainstream</td>\n",
              "    </tr>\n",
              "    <tr>\n",
              "      <th>12</th>\n",
              "      <td>1018</td>\n",
              "      <td>YOUNG SINGLES/COUPLES</td>\n",
              "      <td>Mainstream</td>\n",
              "    </tr>\n",
              "    <tr>\n",
              "      <th>13</th>\n",
              "      <td>1019</td>\n",
              "      <td>OLDER SINGLES/COUPLES</td>\n",
              "      <td>Premium</td>\n",
              "    </tr>\n",
              "    <tr>\n",
              "      <th>14</th>\n",
              "      <td>1020</td>\n",
              "      <td>YOUNG SINGLES/COUPLES</td>\n",
              "      <td>Mainstream</td>\n",
              "    </tr>\n",
              "    <tr>\n",
              "      <th>15</th>\n",
              "      <td>1022</td>\n",
              "      <td>OLDER FAMILIES</td>\n",
              "      <td>Budget</td>\n",
              "    </tr>\n",
              "    <tr>\n",
              "      <th>16</th>\n",
              "      <td>1023</td>\n",
              "      <td>MIDAGE SINGLES/COUPLES</td>\n",
              "      <td>Premium</td>\n",
              "    </tr>\n",
              "    <tr>\n",
              "      <th>17</th>\n",
              "      <td>1024</td>\n",
              "      <td>YOUNG SINGLES/COUPLES</td>\n",
              "      <td>Premium</td>\n",
              "    </tr>\n",
              "    <tr>\n",
              "      <th>18</th>\n",
              "      <td>1025</td>\n",
              "      <td>YOUNG FAMILIES</td>\n",
              "      <td>Budget</td>\n",
              "    </tr>\n",
              "    <tr>\n",
              "      <th>19</th>\n",
              "      <td>1026</td>\n",
              "      <td>MIDAGE SINGLES/COUPLES</td>\n",
              "      <td>Premium</td>\n",
              "    </tr>\n",
              "  </tbody>\n",
              "</table>\n",
              "</div>\n",
              "      <button class=\"colab-df-convert\" onclick=\"convertToInteractive('df-a7c5e6f1-2b0f-4cfc-a0ec-c427cefc395b')\"\n",
              "              title=\"Convert this dataframe to an interactive table.\"\n",
              "              style=\"display:none;\">\n",
              "        \n",
              "  <svg xmlns=\"http://www.w3.org/2000/svg\" height=\"24px\"viewBox=\"0 0 24 24\"\n",
              "       width=\"24px\">\n",
              "    <path d=\"M0 0h24v24H0V0z\" fill=\"none\"/>\n",
              "    <path d=\"M18.56 5.44l.94 2.06.94-2.06 2.06-.94-2.06-.94-.94-2.06-.94 2.06-2.06.94zm-11 1L8.5 8.5l.94-2.06 2.06-.94-2.06-.94L8.5 2.5l-.94 2.06-2.06.94zm10 10l.94 2.06.94-2.06 2.06-.94-2.06-.94-.94-2.06-.94 2.06-2.06.94z\"/><path d=\"M17.41 7.96l-1.37-1.37c-.4-.4-.92-.59-1.43-.59-.52 0-1.04.2-1.43.59L10.3 9.45l-7.72 7.72c-.78.78-.78 2.05 0 2.83L4 21.41c.39.39.9.59 1.41.59.51 0 1.02-.2 1.41-.59l7.78-7.78 2.81-2.81c.8-.78.8-2.07 0-2.86zM5.41 20L4 18.59l7.72-7.72 1.47 1.35L5.41 20z\"/>\n",
              "  </svg>\n",
              "      </button>\n",
              "      \n",
              "  <style>\n",
              "    .colab-df-container {\n",
              "      display:flex;\n",
              "      flex-wrap:wrap;\n",
              "      gap: 12px;\n",
              "    }\n",
              "\n",
              "    .colab-df-convert {\n",
              "      background-color: #E8F0FE;\n",
              "      border: none;\n",
              "      border-radius: 50%;\n",
              "      cursor: pointer;\n",
              "      display: none;\n",
              "      fill: #1967D2;\n",
              "      height: 32px;\n",
              "      padding: 0 0 0 0;\n",
              "      width: 32px;\n",
              "    }\n",
              "\n",
              "    .colab-df-convert:hover {\n",
              "      background-color: #E2EBFA;\n",
              "      box-shadow: 0px 1px 2px rgba(60, 64, 67, 0.3), 0px 1px 3px 1px rgba(60, 64, 67, 0.15);\n",
              "      fill: #174EA6;\n",
              "    }\n",
              "\n",
              "    [theme=dark] .colab-df-convert {\n",
              "      background-color: #3B4455;\n",
              "      fill: #D2E3FC;\n",
              "    }\n",
              "\n",
              "    [theme=dark] .colab-df-convert:hover {\n",
              "      background-color: #434B5C;\n",
              "      box-shadow: 0px 1px 3px 1px rgba(0, 0, 0, 0.15);\n",
              "      filter: drop-shadow(0px 1px 2px rgba(0, 0, 0, 0.3));\n",
              "      fill: #FFFFFF;\n",
              "    }\n",
              "  </style>\n",
              "\n",
              "      <script>\n",
              "        const buttonEl =\n",
              "          document.querySelector('#df-a7c5e6f1-2b0f-4cfc-a0ec-c427cefc395b button.colab-df-convert');\n",
              "        buttonEl.style.display =\n",
              "          google.colab.kernel.accessAllowed ? 'block' : 'none';\n",
              "\n",
              "        async function convertToInteractive(key) {\n",
              "          const element = document.querySelector('#df-a7c5e6f1-2b0f-4cfc-a0ec-c427cefc395b');\n",
              "          const dataTable =\n",
              "            await google.colab.kernel.invokeFunction('convertToInteractive',\n",
              "                                                     [key], {});\n",
              "          if (!dataTable) return;\n",
              "\n",
              "          const docLinkHtml = 'Like what you see? Visit the ' +\n",
              "            '<a target=\"_blank\" href=https://colab.research.google.com/notebooks/data_table.ipynb>data table notebook</a>'\n",
              "            + ' to learn more about interactive tables.';\n",
              "          element.innerHTML = '';\n",
              "          dataTable['output_type'] = 'display_data';\n",
              "          await google.colab.output.renderOutput(dataTable, element);\n",
              "          const docLink = document.createElement('div');\n",
              "          docLink.innerHTML = docLinkHtml;\n",
              "          element.appendChild(docLink);\n",
              "        }\n",
              "      </script>\n",
              "    </div>\n",
              "  </div>\n",
              "  "
            ]
          },
          "metadata": {},
          "execution_count": 4
        }
      ],
      "source": [
        "print(\"(rows,columns) - \",dfp.shape)\n",
        "dfp.head(20)"
      ]
    },
    {
      "cell_type": "code",
      "execution_count": null,
      "metadata": {
        "id": "HxiRmM_XDPPL",
        "colab": {
          "base_uri": "https://localhost:8080/"
        },
        "outputId": "8861b7de-3559-460e-ed6e-8a4b768843fa"
      },
      "outputs": [
        {
          "output_type": "stream",
          "name": "stdout",
          "text": [
            "<class 'pandas.core.frame.DataFrame'>\n",
            "RangeIndex: 264836 entries, 0 to 264835\n",
            "Data columns (total 8 columns):\n",
            " #   Column          Non-Null Count   Dtype  \n",
            "---  ------          --------------   -----  \n",
            " 0   DATE            264836 non-null  int64  \n",
            " 1   STORE_NBR       264836 non-null  int64  \n",
            " 2   LYLTY_CARD_NBR  264836 non-null  int64  \n",
            " 3   TXN_ID          264836 non-null  int64  \n",
            " 4   PROD_NBR        264836 non-null  int64  \n",
            " 5   PROD_NAME       264836 non-null  object \n",
            " 6   PROD_QTY        264836 non-null  int64  \n",
            " 7   TOT_SALES       264836 non-null  float64\n",
            "dtypes: float64(1), int64(6), object(1)\n",
            "memory usage: 16.2+ MB\n"
          ]
        }
      ],
      "source": [
        "dft.info()\n",
        "#len(dft['DATE'].unique())"
      ]
    },
    {
      "cell_type": "code",
      "execution_count": null,
      "metadata": {
        "id": "e-ahHM4VMMWI",
        "colab": {
          "base_uri": "https://localhost:8080/",
          "height": 300
        },
        "outputId": "8fbfd043-ec74-454b-e90a-df97b6e596e2"
      },
      "outputs": [
        {
          "output_type": "execute_result",
          "data": {
            "text/plain": [
              "                DATE     STORE_NBR  LYLTY_CARD_NBR        TXN_ID  \\\n",
              "count  264836.000000  264836.00000    2.648360e+05  2.648360e+05   \n",
              "mean    43464.036260     135.08011    1.355495e+05  1.351583e+05   \n",
              "std       105.389282      76.78418    8.057998e+04  7.813303e+04   \n",
              "min     43282.000000       1.00000    1.000000e+03  1.000000e+00   \n",
              "25%     43373.000000      70.00000    7.002100e+04  6.760150e+04   \n",
              "50%     43464.000000     130.00000    1.303575e+05  1.351375e+05   \n",
              "75%     43555.000000     203.00000    2.030942e+05  2.027012e+05   \n",
              "max     43646.000000     272.00000    2.373711e+06  2.415841e+06   \n",
              "\n",
              "            PROD_NBR       PROD_QTY      TOT_SALES  \n",
              "count  264836.000000  264836.000000  264836.000000  \n",
              "mean       56.583157       1.907309       7.304200  \n",
              "std        32.826638       0.643654       3.083226  \n",
              "min         1.000000       1.000000       1.500000  \n",
              "25%        28.000000       2.000000       5.400000  \n",
              "50%        56.000000       2.000000       7.400000  \n",
              "75%        85.000000       2.000000       9.200000  \n",
              "max       114.000000     200.000000     650.000000  "
            ],
            "text/html": [
              "\n",
              "  <div id=\"df-bc3a5a12-a9c0-4e7d-b6ae-54b111f22429\">\n",
              "    <div class=\"colab-df-container\">\n",
              "      <div>\n",
              "<style scoped>\n",
              "    .dataframe tbody tr th:only-of-type {\n",
              "        vertical-align: middle;\n",
              "    }\n",
              "\n",
              "    .dataframe tbody tr th {\n",
              "        vertical-align: top;\n",
              "    }\n",
              "\n",
              "    .dataframe thead th {\n",
              "        text-align: right;\n",
              "    }\n",
              "</style>\n",
              "<table border=\"1\" class=\"dataframe\">\n",
              "  <thead>\n",
              "    <tr style=\"text-align: right;\">\n",
              "      <th></th>\n",
              "      <th>DATE</th>\n",
              "      <th>STORE_NBR</th>\n",
              "      <th>LYLTY_CARD_NBR</th>\n",
              "      <th>TXN_ID</th>\n",
              "      <th>PROD_NBR</th>\n",
              "      <th>PROD_QTY</th>\n",
              "      <th>TOT_SALES</th>\n",
              "    </tr>\n",
              "  </thead>\n",
              "  <tbody>\n",
              "    <tr>\n",
              "      <th>count</th>\n",
              "      <td>264836.000000</td>\n",
              "      <td>264836.00000</td>\n",
              "      <td>2.648360e+05</td>\n",
              "      <td>2.648360e+05</td>\n",
              "      <td>264836.000000</td>\n",
              "      <td>264836.000000</td>\n",
              "      <td>264836.000000</td>\n",
              "    </tr>\n",
              "    <tr>\n",
              "      <th>mean</th>\n",
              "      <td>43464.036260</td>\n",
              "      <td>135.08011</td>\n",
              "      <td>1.355495e+05</td>\n",
              "      <td>1.351583e+05</td>\n",
              "      <td>56.583157</td>\n",
              "      <td>1.907309</td>\n",
              "      <td>7.304200</td>\n",
              "    </tr>\n",
              "    <tr>\n",
              "      <th>std</th>\n",
              "      <td>105.389282</td>\n",
              "      <td>76.78418</td>\n",
              "      <td>8.057998e+04</td>\n",
              "      <td>7.813303e+04</td>\n",
              "      <td>32.826638</td>\n",
              "      <td>0.643654</td>\n",
              "      <td>3.083226</td>\n",
              "    </tr>\n",
              "    <tr>\n",
              "      <th>min</th>\n",
              "      <td>43282.000000</td>\n",
              "      <td>1.00000</td>\n",
              "      <td>1.000000e+03</td>\n",
              "      <td>1.000000e+00</td>\n",
              "      <td>1.000000</td>\n",
              "      <td>1.000000</td>\n",
              "      <td>1.500000</td>\n",
              "    </tr>\n",
              "    <tr>\n",
              "      <th>25%</th>\n",
              "      <td>43373.000000</td>\n",
              "      <td>70.00000</td>\n",
              "      <td>7.002100e+04</td>\n",
              "      <td>6.760150e+04</td>\n",
              "      <td>28.000000</td>\n",
              "      <td>2.000000</td>\n",
              "      <td>5.400000</td>\n",
              "    </tr>\n",
              "    <tr>\n",
              "      <th>50%</th>\n",
              "      <td>43464.000000</td>\n",
              "      <td>130.00000</td>\n",
              "      <td>1.303575e+05</td>\n",
              "      <td>1.351375e+05</td>\n",
              "      <td>56.000000</td>\n",
              "      <td>2.000000</td>\n",
              "      <td>7.400000</td>\n",
              "    </tr>\n",
              "    <tr>\n",
              "      <th>75%</th>\n",
              "      <td>43555.000000</td>\n",
              "      <td>203.00000</td>\n",
              "      <td>2.030942e+05</td>\n",
              "      <td>2.027012e+05</td>\n",
              "      <td>85.000000</td>\n",
              "      <td>2.000000</td>\n",
              "      <td>9.200000</td>\n",
              "    </tr>\n",
              "    <tr>\n",
              "      <th>max</th>\n",
              "      <td>43646.000000</td>\n",
              "      <td>272.00000</td>\n",
              "      <td>2.373711e+06</td>\n",
              "      <td>2.415841e+06</td>\n",
              "      <td>114.000000</td>\n",
              "      <td>200.000000</td>\n",
              "      <td>650.000000</td>\n",
              "    </tr>\n",
              "  </tbody>\n",
              "</table>\n",
              "</div>\n",
              "      <button class=\"colab-df-convert\" onclick=\"convertToInteractive('df-bc3a5a12-a9c0-4e7d-b6ae-54b111f22429')\"\n",
              "              title=\"Convert this dataframe to an interactive table.\"\n",
              "              style=\"display:none;\">\n",
              "        \n",
              "  <svg xmlns=\"http://www.w3.org/2000/svg\" height=\"24px\"viewBox=\"0 0 24 24\"\n",
              "       width=\"24px\">\n",
              "    <path d=\"M0 0h24v24H0V0z\" fill=\"none\"/>\n",
              "    <path d=\"M18.56 5.44l.94 2.06.94-2.06 2.06-.94-2.06-.94-.94-2.06-.94 2.06-2.06.94zm-11 1L8.5 8.5l.94-2.06 2.06-.94-2.06-.94L8.5 2.5l-.94 2.06-2.06.94zm10 10l.94 2.06.94-2.06 2.06-.94-2.06-.94-.94-2.06-.94 2.06-2.06.94z\"/><path d=\"M17.41 7.96l-1.37-1.37c-.4-.4-.92-.59-1.43-.59-.52 0-1.04.2-1.43.59L10.3 9.45l-7.72 7.72c-.78.78-.78 2.05 0 2.83L4 21.41c.39.39.9.59 1.41.59.51 0 1.02-.2 1.41-.59l7.78-7.78 2.81-2.81c.8-.78.8-2.07 0-2.86zM5.41 20L4 18.59l7.72-7.72 1.47 1.35L5.41 20z\"/>\n",
              "  </svg>\n",
              "      </button>\n",
              "      \n",
              "  <style>\n",
              "    .colab-df-container {\n",
              "      display:flex;\n",
              "      flex-wrap:wrap;\n",
              "      gap: 12px;\n",
              "    }\n",
              "\n",
              "    .colab-df-convert {\n",
              "      background-color: #E8F0FE;\n",
              "      border: none;\n",
              "      border-radius: 50%;\n",
              "      cursor: pointer;\n",
              "      display: none;\n",
              "      fill: #1967D2;\n",
              "      height: 32px;\n",
              "      padding: 0 0 0 0;\n",
              "      width: 32px;\n",
              "    }\n",
              "\n",
              "    .colab-df-convert:hover {\n",
              "      background-color: #E2EBFA;\n",
              "      box-shadow: 0px 1px 2px rgba(60, 64, 67, 0.3), 0px 1px 3px 1px rgba(60, 64, 67, 0.15);\n",
              "      fill: #174EA6;\n",
              "    }\n",
              "\n",
              "    [theme=dark] .colab-df-convert {\n",
              "      background-color: #3B4455;\n",
              "      fill: #D2E3FC;\n",
              "    }\n",
              "\n",
              "    [theme=dark] .colab-df-convert:hover {\n",
              "      background-color: #434B5C;\n",
              "      box-shadow: 0px 1px 3px 1px rgba(0, 0, 0, 0.15);\n",
              "      filter: drop-shadow(0px 1px 2px rgba(0, 0, 0, 0.3));\n",
              "      fill: #FFFFFF;\n",
              "    }\n",
              "  </style>\n",
              "\n",
              "      <script>\n",
              "        const buttonEl =\n",
              "          document.querySelector('#df-bc3a5a12-a9c0-4e7d-b6ae-54b111f22429 button.colab-df-convert');\n",
              "        buttonEl.style.display =\n",
              "          google.colab.kernel.accessAllowed ? 'block' : 'none';\n",
              "\n",
              "        async function convertToInteractive(key) {\n",
              "          const element = document.querySelector('#df-bc3a5a12-a9c0-4e7d-b6ae-54b111f22429');\n",
              "          const dataTable =\n",
              "            await google.colab.kernel.invokeFunction('convertToInteractive',\n",
              "                                                     [key], {});\n",
              "          if (!dataTable) return;\n",
              "\n",
              "          const docLinkHtml = 'Like what you see? Visit the ' +\n",
              "            '<a target=\"_blank\" href=https://colab.research.google.com/notebooks/data_table.ipynb>data table notebook</a>'\n",
              "            + ' to learn more about interactive tables.';\n",
              "          element.innerHTML = '';\n",
              "          dataTable['output_type'] = 'display_data';\n",
              "          await google.colab.output.renderOutput(dataTable, element);\n",
              "          const docLink = document.createElement('div');\n",
              "          docLink.innerHTML = docLinkHtml;\n",
              "          element.appendChild(docLink);\n",
              "        }\n",
              "      </script>\n",
              "    </div>\n",
              "  </div>\n",
              "  "
            ]
          },
          "metadata": {},
          "execution_count": 6
        }
      ],
      "source": [
        "dft.describe()"
      ]
    },
    {
      "cell_type": "code",
      "execution_count": null,
      "metadata": {
        "colab": {
          "base_uri": "https://localhost:8080/",
          "height": 53
        },
        "id": "8R0_qC1cDJ2A",
        "outputId": "d5123a39-61ae-49c6-ecce-2312bc7f56f4"
      },
      "outputs": [
        {
          "output_type": "execute_result",
          "data": {
            "text/plain": [
              "\"\\n# Another method to convert dates\\ntrans_df['DATE'] = pd.to_datetime(trans_df['DATE'], unit='D', origin='1899-12-30')\\nprint(trans_df['DATE'].dtype) # check format of replacement date column \\n\\n\""
            ],
            "application/vnd.google.colaboratory.intrinsic+json": {
              "type": "string"
            }
          },
          "metadata": {},
          "execution_count": 7
        }
      ],
      "source": [
        "# Converting integer date to date format\n",
        "\n",
        "from datetime import date, timedelta\n",
        "dft['DATE'] = dft['DATE'].apply( lambda x : (date(1899,12,30) + timedelta(days=x)).strftime(\"%Y-%m-%d\") ) \n",
        "dft.head(20)\n",
        "\n",
        "\"\"\"\n",
        "# Another method to convert dates\n",
        "trans_df['DATE'] = pd.to_datetime(trans_df['DATE'], unit='D', origin='1899-12-30')\n",
        "print(trans_df['DATE'].dtype) # check format of replacement date column \n",
        "\n",
        "\"\"\""
      ]
    },
    {
      "cell_type": "code",
      "execution_count": null,
      "metadata": {
        "colab": {
          "base_uri": "https://localhost:8080/"
        },
        "id": "nSl37Gv6D5H6",
        "outputId": "dfa615de-1b83-4a9d-bb77-ca47000b454d"
      },
      "outputs": [
        {
          "output_type": "execute_result",
          "data": {
            "text/plain": [
              "DATE              0\n",
              "STORE_NBR         0\n",
              "LYLTY_CARD_NBR    0\n",
              "TXN_ID            0\n",
              "PROD_NBR          0\n",
              "PROD_NAME         0\n",
              "PROD_QTY          0\n",
              "TOT_SALES         0\n",
              "dtype: int64"
            ]
          },
          "metadata": {},
          "execution_count": 8
        }
      ],
      "source": [
        "# Checking null values\n",
        "\n",
        "dft.isnull().sum()"
      ]
    },
    {
      "cell_type": "code",
      "execution_count": null,
      "metadata": {
        "colab": {
          "base_uri": "https://localhost:8080/",
          "height": 479
        },
        "id": "S7NzbrQlPmay",
        "outputId": "12999aff-39ea-428c-d1d3-c09b7191dbc1"
      },
      "outputs": [
        {
          "output_type": "display_data",
          "data": {
            "text/plain": [
              "<Figure size 1500x600 with 1 Axes>"
            ],
            "image/png": "[encoded data removed]"
          },
          "metadata": {}
        }
      ],
      "source": [
        "# Checking for outliers\n",
        "\n",
        "import matplotlib.pyplot as plt \n",
        "\n",
        "plt.figure(figsize=(15,6))\n",
        "plt.locator_params(axis='x', nbins=15)\n",
        "#plt.ticklabel_format(useOffset=False)\n",
        "plt.ticklabel_format(useOffset=False, style='plain')\n",
        "\n",
        "plt.scatter( dft['LYLTY_CARD_NBR'], dft['TOT_SALES'] )\n",
        "plt.show()"
      ]
    },
    {
      "cell_type": "code",
      "execution_count": null,
      "metadata": {
        "colab": {
          "base_uri": "https://localhost:8080/",
          "height": 494
        },
        "id": "ISl7KwNVPpLa",
        "outputId": "d5930192-860c-4d63-b794-eb8e8ddae604"
      },
      "outputs": [
        {
          "output_type": "display_data",
          "data": {
            "text/plain": [
              "<Figure size 1500x600 with 1 Axes>"
            ],
            "image/png": "[encoded data removed]"
          },
          "metadata": {}
        }
      ],
      "source": [
        "plt.figure(figsize=(15,6))\n",
        "plt.scatter( dft['TOT_SALES'],dft['TXN_ID'])\n",
        "plt.show()"
      ]
    },
    {
      "cell_type": "code",
      "execution_count": null,
      "metadata": {
        "id": "VoE1qHeOP4nC"
      },
      "outputs": [],
      "source": [
        "# Droping outliers \n",
        "\n",
        "dt=dft.loc[ dft['TOT_SALES']>600 ]\n",
        "\n",
        "#  Checking the transactions of that customer in dft dataset   \n",
        "#df=dft.loc[ dft['LYLTY_CARD_NBR']==226000 ]\n",
        "\n",
        "#  Checking the same customer in dfp dataset\n",
        "#dt = dfp.loc[ dfp['LYLTY_CARD_NBR']==226000 ]\n",
        "\n",
        "\n",
        "in_dft = dft[ dft['TOT_SALES']>600 ].index\n",
        "in_dfp=dfp[ dfp['LYLTY_CARD_NBR']==226000 ].index\n",
        "\n",
        "dft.drop( in_dft, inplace=True)\n",
        "dfp.drop( in_dfp, axis=0, inplace=True) \n",
        "\n",
        "# df=dft[dft.duplicated('LYLTY_CARD_NBR')]"
      ]
    },
    {
      "cell_type": "code",
      "execution_count": null,
      "metadata": {
        "colab": {
          "base_uri": "https://localhost:8080/"
        },
        "id": "1AT62syWzEHA",
        "outputId": "8ce2eef1-7bfc-4f66-b806-b9b325f434ca"
      },
      "outputs": [
        {
          "output_type": "stream",
          "name": "stderr",
          "text": [
            "<ipython-input-12-a37efb4a8cef>:3: FutureWarning: The default value of regex will change from True to False in a future version.\n",
            "  prod_name = dft['PROD_NAME'].str.replace(r'[0-9]+[gG]','');\n"
          ]
        },
        {
          "output_type": "execute_result",
          "data": {
            "text/plain": [
              "0           Natural Chip        Compny SeaSalt\n",
              "1                         CCs Nacho Cheese    \n",
              "2           Smiths Crinkle Cut  Chips Chicken \n",
              "3           Smiths Chip Thinly  S/Cream Onion \n",
              "4         Kettle Tortilla ChpsHny Jlpno Chili \n",
              "                          ...                 \n",
              "264831     Kettle Sweet Chilli And Sour Cream \n",
              "264832               Tostitos Splash Of  Lime \n",
              "264833                    Doritos Mexicana    \n",
              "264834     Doritos Corn Chip Mexican Jalapeno \n",
              "264835               Tostitos Splash Of  Lime \n",
              "Name: PROD_NAME, Length: 264834, dtype: object"
            ]
          },
          "metadata": {},
          "execution_count": 12
        }
      ],
      "source": [
        "# Removing special character and digits from words for counting frequency on words\n",
        "\n",
        "prod_name = dft['PROD_NAME'].str.replace(r'[0-9]+[gG]','');\n",
        "prod_name = prod_name.str.replace(r'&',' ');\n",
        "\n",
        "prod_name"
      ]
    },
    {
      "cell_type": "code",
      "execution_count": null,
      "metadata": {
        "id": "zT5tqhdj5K1G",
        "colab": {
          "base_uri": "https://localhost:8080/"
        },
        "outputId": "ceca02d2-10be-4ed3-d763-0eb2fcd339a7"
      },
      "outputs": [
        {
          "output_type": "execute_result",
          "data": {
            "text/plain": [
              "Chips              49770\n",
              "Kettle             41288\n",
              "Smiths             28860\n",
              "Salt               27976\n",
              "Cheese             27890\n",
              "Pringles           25102\n",
              "Doritos            24962\n",
              "Crinkle            23960\n",
              "Corn               22061\n",
              "Original           21560\n",
              "Cut                20754\n",
              "Chip               18645\n",
              "Chicken            18577\n",
              "Salsa              18094\n",
              "Chilli             15390\n",
              "Sea                14145\n",
              "Thins              14075\n",
              "Sour               13882\n",
              "Crisps             12607\n",
              "Vinegar            12402\n",
              "RRD                11894\n",
              "Sweet              11060\n",
              "Infuzions          11057\n",
              "Supreme            10961\n",
              "Chives             10951\n",
              "Cream              10723\n",
              "WW                 10320\n",
              "Cobs                9693\n",
              "Popd                9693\n",
              "Tortilla            9580\n",
              "Tostitos            9471\n",
              "Twisties            9454\n",
              "BBQ                 9434\n",
              "Sensations          9429\n",
              "Lime                9347\n",
              "Paso                9324\n",
              "Dip                 9324\n",
              "Old                 9324\n",
              "El                  9324\n",
              "Tomato              7669\n",
              "Thinly              7507\n",
              "Tyrrells            6442\n",
              "And                 6373\n",
              "Tangy               6332\n",
              "SourCream           6296\n",
              "Waves               6272\n",
              "Grain               6272\n",
              "Salted              6248\n",
              "Lightly             6248\n",
              "Soy                 6121\n",
              "Onion               6116\n",
              "Natural             6050\n",
              "Mild                6048\n",
              "Red                 5885\n",
              "Deli                5885\n",
              "Rock                5885\n",
              "Thai                4737\n",
              "Burger              4733\n",
              "Swt                 4718\n",
              "Honey               4661\n",
              "Nacho               4658\n",
              "Potato              4647\n",
              "Cheezels            4603\n",
              "Garlic              4572\n",
              "CCs                 4551\n",
              "Woolworths          4437\n",
              "Basil               3304\n",
              "Mozzarella          3304\n",
              "Pesto               3304\n",
              "ChpsHny             3296\n",
              "Chili               3296\n",
              "Jlpno               3296\n",
              "Sr/Cream            3269\n",
              "Swt/Chlli           3269\n",
              "Ched                3268\n",
              "Pot                 3257\n",
              "Of                  3252\n",
              "Splash              3252\n",
              "PotatoMix           3242\n",
              "SweetChili          3242\n",
              "Orgnl               3233\n",
              "Bag                 3233\n",
              "Big                 3233\n",
              "Crnkle              3233\n",
              "Hot                 3229\n",
              "Spicy               3229\n",
              "Camembert           3219\n",
              "Fig                 3219\n",
              "Barbeque            3210\n",
              "Mexican             3204\n",
              "Jalapeno            3204\n",
              "Light               3188\n",
              "Chp                 3183\n",
              "Dorito              3183\n",
              "Spcy                3177\n",
              "Rib                 3174\n",
              "Prawn               3174\n",
              "Crackers            3174\n",
              "Southern            3172\n",
              "Crm                 3159\n",
              "Ricotta             3146\n",
              "ChpsBtroot          3146\n",
              "Smoked              3145\n",
              "Chipotle            3145\n",
              "Infzns              3144\n",
              "Crnchers            3144\n",
              "Gcamole             3144\n",
              "Crn                 3144\n",
              "ChpsFeta            3138\n",
              "Herbs               3134\n",
              "Veg                 3134\n",
              "Strws               3134\n",
              "Siracha             3127\n",
              "Ht                  3125\n",
              "Chnky               3125\n",
              "Tom                 3125\n",
              "Mexicana            3115\n",
              "Med                 3114\n",
              "Seasonedchicken     3114\n",
              "Mystery             3114\n",
              "Flavour             3114\n",
              "Crips               3104\n",
              "Vingar              3095\n",
              "Slt                 3095\n",
              "Sthrn               3083\n",
              "Maple               3083\n",
              "FriedChicken        3083\n",
              "Rings               3080\n",
              "ChipCo              3010\n",
              "SR                  2984\n",
              "Smith               2963\n",
              "Chs                 2960\n",
              "S/Cream             2934\n",
              "Cheetos             2927\n",
              "Medium              2879\n",
              "French              2856\n",
              "Cheddr              1576\n",
              "Whlgrn              1576\n",
              "Snbts               1576\n",
              "Mstrd               1576\n",
              "Co                  1572\n",
              "Tmato               1572\n",
              "Spce                1572\n",
              "Hrb                 1572\n",
              "Vinegr              1550\n",
              "Tasty               1539\n",
              "Belly               1526\n",
              "Rst                 1526\n",
              "Pork                1526\n",
              "Slow                1526\n",
              "Roast               1519\n",
              "N                   1512\n",
              "Mac                 1512\n",
              "Papadums            1507\n",
              "Chutny              1507\n",
              "Mango               1507\n",
              "Coconut             1506\n",
              "Sauce               1503\n",
              "Snag                1503\n",
              "Sp                  1498\n",
              "Truffle             1498\n",
              "Barbecue            1489\n",
              "Stacked             1487\n",
              "OnionStacked        1483\n",
              "Bacon               1479\n",
              "Balls               1479\n",
              "Pepper              1473\n",
              "D/Style             1469\n",
              "GrnWves             1468\n",
              "Plus                1468\n",
              "Btroot              1468\n",
              "Jam                 1468\n",
              "SeaSalt             1468\n",
              "Compny              1468\n",
              "Chli                1461\n",
              "Hony                1460\n",
              "Chckn               1460\n",
              "Mzzrlla             1458\n",
              "Chimuchurri         1455\n",
              "Steak               1455\n",
              "Box                 1454\n",
              "Bolognese           1451\n",
              "Puffs               1448\n",
              "saltd               1441\n",
              "Originl             1441\n",
              "CutSalt/Vinegr      1440\n",
              "OnionDip            1438\n",
              "Chikn               1434\n",
              "Aioli               1434\n",
              "Sunbites            1432\n",
              "Frch/Onin           1432\n",
              "Whlegrn             1432\n",
              "Pc                  1431\n",
              "NCC                 1419\n",
              "Garden              1419\n",
              "Fries               1418\n",
              "dtype: int64"
            ]
          },
          "metadata": {},
          "execution_count": 13
        }
      ],
      "source": [
        "# Split product_name columns words and count frequency\n",
        "\n",
        "word_counts = pd.DataFrame(' '.join(prod_name).split()).value_counts()\n",
        "\n",
        "\n",
        "pd.set_option('display.max_rows', None)\n",
        "word_counts"
      ]
    },
    {
      "cell_type": "code",
      "execution_count": null,
      "metadata": {
        "id": "oOugYaV38bcb",
        "colab": {
          "base_uri": "https://localhost:8080/"
        },
        "outputId": "5a51c95e-1df1-4364-ec7e-0bbf673aebeb"
      },
      "outputs": [
        {
          "output_type": "execute_result",
          "data": {
            "text/plain": [
              "array(['Old El Paso Salsa   Dip Tomato Mild 300g',\n",
              "       'Red Rock Deli SR    Salsa & Mzzrlla 150g',\n",
              "       'Smiths Crinkle Cut  Tomato Salsa 150g',\n",
              "       'Doritos Salsa       Medium 300g',\n",
              "       'Old El Paso Salsa   Dip Chnky Tom Ht300g',\n",
              "       'Woolworths Mild     Salsa 300g',\n",
              "       'Old El Paso Salsa   Dip Tomato Med 300g',\n",
              "       'Woolworths Medium   Salsa 300g', 'Doritos Salsa Mild  300g'],\n",
              "      dtype=object)"
            ]
          },
          "metadata": {},
          "execution_count": 14
        }
      ],
      "source": [
        "# Check words in products suspects that are not chips    (jam, salsa, Burger, coconut, pork, FriedChicken, Seasonedchicken )\n",
        "\n",
        "df= dft[ dft['PROD_NAME'].str.contains(r\"[sS]alsa\") ]\n",
        "\n",
        "df.PROD_NAME.unique()\n",
        "# In products having salsa two products are actually chips and others are actual salsa \n",
        "# There 2 products are chips (Smiths Crinkle Cut  Tomato Salsa 150g, Red Rock Deli SR    Salsa & Mzzrlla 150g)\n",
        "# But they are just around 3000 rows so drop all rows containing word salsa\n"
      ]
    },
    {
      "cell_type": "code",
      "execution_count": null,
      "metadata": {
        "colab": {
          "base_uri": "https://localhost:8080/"
        },
        "id": "HpArVx6W6gTH",
        "outputId": "5d7d1015-c744-4677-90ab-8eab4cc82be7"
      },
      "outputs": [
        {
          "output_type": "execute_result",
          "data": {
            "text/plain": [
              "(246740, 8)"
            ]
          },
          "metadata": {},
          "execution_count": 15
        }
      ],
      "source": [
        "# Drop products having salsa\n",
        "\n",
        "df= dft[ dft['PROD_NAME'].str.contains(r\"[sS]alsa\") ].index\n",
        "dft.drop( df, inplace=True )\n",
        "dft.shape"
      ]
    },
    {
      "cell_type": "code",
      "execution_count": null,
      "metadata": {
        "id": "L8ei8V2qxVlG",
        "colab": {
          "base_uri": "https://localhost:8080/"
        },
        "outputId": "49eb9818-e6b1-4a89-a08c-f464b17f466e"
      },
      "outputs": [
        {
          "output_type": "stream",
          "name": "stdout",
          "text": [
            "MAX -  2019-06-30 , MIN -  2018-07-01\n"
          ]
        }
      ],
      "source": [
        "print (\"MAX - \",dft.DATE.max(),\", MIN - \", dft.DATE.min() )\n",
        "\n",
        "# dataset dates \n",
        "date_count= dft.groupby('DATE').count()\n"
      ]
    },
    {
      "cell_type": "code",
      "execution_count": null,
      "metadata": {
        "colab": {
          "base_uri": "https://localhost:8080/"
        },
        "id": "-FP7qY7jFSVz",
        "outputId": "fe07b904-2a29-4390-efd7-71a4d9c0d7c5"
      },
      "outputs": [
        {
          "output_type": "execute_result",
          "data": {
            "text/plain": [
              "DatetimeIndex(['2018-12-25'], dtype='datetime64[ns]', freq=None)"
            ]
          },
          "metadata": {},
          "execution_count": 17
        }
      ],
      "source": [
        "# checking missing date\n",
        "\n",
        "#dft.DATE.describe()\n",
        "pd.set_option('display.max_rows', None)\n",
        "df=pd.date_range(start='2018-07-01', end='2019-06-30')\n",
        "\n",
        "df.difference(date_count.index)\n",
        "# 1 date is missing i.e - 25th dec 2018 which a day of holiday"
      ]
    },
    {
      "cell_type": "code",
      "execution_count": null,
      "metadata": {
        "id": "JDFHZnIJy7_t"
      },
      "outputs": [],
      "source": [
        "# Adding extra columns (Feature extraction)\n",
        "\n",
        "brand_name = dft.PROD_NAME.str.split(\" \").str.get(0)\n",
        "\n",
        "dft.insert(8,\"BRAND_NAME\", brand_name, True )"
      ]
    },
    {
      "cell_type": "code",
      "execution_count": null,
      "metadata": {
        "id": "jVMSBITVJ4J7"
      },
      "outputs": [],
      "source": [
        "PACK_QNT=dft[\"PROD_NAME\"].str.extract(r'([0-9]+)')\n",
        "\n",
        "dft.insert(8,\"PACK_QNT\", PACK_QNT, True )"
      ]
    },
    {
      "cell_type": "code",
      "source": [
        "PACK_QNT.isnull().sum()"
      ],
      "metadata": {
        "colab": {
          "base_uri": "https://localhost:8080/"
        },
        "id": "OL-f8WndRUYP",
        "outputId": "5902be07-0616-4435-a841-b22a608e7330"
      },
      "execution_count": null,
      "outputs": [
        {
          "output_type": "execute_result",
          "data": {
            "text/plain": [
              "0    0\n",
              "dtype: int64"
            ]
          },
          "metadata": {},
          "execution_count": 20
        }
      ]
    },
    {
      "cell_type": "code",
      "source": [
        "# Examining Brand names\n",
        "\n",
        "dft.BRAND_NAME.value_counts()"
      ],
      "metadata": {
        "id": "jEGSeeSQWVul",
        "colab": {
          "base_uri": "https://localhost:8080/"
        },
        "outputId": "8ab8822b-4c06-4e73-eda4-baf01bec3286"
      },
      "execution_count": null,
      "outputs": [
        {
          "output_type": "execute_result",
          "data": {
            "text/plain": [
              "Kettle        41288\n",
              "Smiths        27390\n",
              "Pringles      25102\n",
              "Doritos       22041\n",
              "Thins         14075\n",
              "RRD           11894\n",
              "Infuzions     11057\n",
              "WW            10320\n",
              "Cobs           9693\n",
              "Tostitos       9471\n",
              "Twisties       9454\n",
              "Tyrrells       6442\n",
              "Grain          6272\n",
              "Natural        6050\n",
              "Cheezels       4603\n",
              "CCs            4551\n",
              "Red            4427\n",
              "Dorito         3183\n",
              "Infzns         3144\n",
              "Smith          2963\n",
              "Cheetos        2927\n",
              "Snbts          1576\n",
              "Burger         1564\n",
              "Woolworths     1516\n",
              "GrnWves        1468\n",
              "Sunbites       1432\n",
              "NCC            1419\n",
              "French         1418\n",
              "Name: BRAND_NAME, dtype: int64"
            ]
          },
          "metadata": {},
          "execution_count": 21
        }
      ]
    },
    {
      "cell_type": "code",
      "source": [
        "# Create a function to identify the string replacements needed.\n",
        "def replace_brandname(row):\n",
        "    name = row['BRAND_NAME']\n",
        "    if name == \"Infzns\":\n",
        "        return \"Infuzions\"\n",
        "    elif name == \"Red\":\n",
        "        return \"Red Rock Deli\"\n",
        "    elif name == \"RRD\":\n",
        "        return \"Red Rock Deli\"\n",
        "    elif name == \"Grain\":\n",
        "        return \"Grain Waves\"\n",
        "    elif name == \"GrnWves\":\n",
        "        return \"Grain Waves\"\n",
        "    elif name == \"Snbts\":\n",
        "        return \"Sunbites\"\n",
        "    elif name == \"Natural\":\n",
        "        return \"Natural Chip Co\"\n",
        "    elif name == \"NCC\":\n",
        "        return \"Natural Chip Co\"\n",
        "    elif name == \"WW\":\n",
        "        return \"Woolworths\"\n",
        "    elif name == \"Smith\":\n",
        "        return \"Smiths\"\n",
        "    elif name == \"Dorito\":\n",
        "        return \"Doritos\"\n",
        "    else:\n",
        "        return name \n",
        "\n",
        "# Then apply the function to clean the brand names\n",
        "dft[\"BRAND_NAME\"] = dft.apply(lambda row: replace_brandname(row), axis=1)"
      ],
      "metadata": {
        "id": "WquwiBRrXfXc"
      },
      "execution_count": null,
      "outputs": []
    },
    {
      "cell_type": "code",
      "source": [
        "dft.BRAND_NAME.value_counts()"
      ],
      "metadata": {
        "id": "WKk4yfcdX9yK",
        "colab": {
          "base_uri": "https://localhost:8080/"
        },
        "outputId": "311bcbcc-ebcf-4c37-abdd-b87fd8c4dfe0"
      },
      "execution_count": null,
      "outputs": [
        {
          "output_type": "execute_result",
          "data": {
            "text/plain": [
              "Kettle             41288\n",
              "Smiths             30353\n",
              "Doritos            25224\n",
              "Pringles           25102\n",
              "Red Rock Deli      16321\n",
              "Infuzions          14201\n",
              "Thins              14075\n",
              "Woolworths         11836\n",
              "Cobs                9693\n",
              "Tostitos            9471\n",
              "Twisties            9454\n",
              "Grain Waves         7740\n",
              "Natural Chip Co     7469\n",
              "Tyrrells            6442\n",
              "Cheezels            4603\n",
              "CCs                 4551\n",
              "Sunbites            3008\n",
              "Cheetos             2927\n",
              "Burger              1564\n",
              "French              1418\n",
              "Name: BRAND_NAME, dtype: int64"
            ]
          },
          "metadata": {},
          "execution_count": 23
        }
      ]
    },
    {
      "cell_type": "markdown",
      "source": [
        "### EXAMINIG CUSTOMER DATA"
      ],
      "metadata": {
        "id": "rqr6vwjejJTu"
      }
    },
    {
      "cell_type": "code",
      "source": [
        "dfp.columns\n",
        "dfp.shape\n",
        "\n",
        "dfp.info()\n",
        "dfp.head()"
      ],
      "metadata": {
        "id": "vcqXtjvPjdet",
        "colab": {
          "base_uri": "https://localhost:8080/",
          "height": 379
        },
        "outputId": "2feb6aea-be44-4498-bc68-a72e40c49ad8"
      },
      "execution_count": null,
      "outputs": [
        {
          "output_type": "stream",
          "name": "stdout",
          "text": [
            "<class 'pandas.core.frame.DataFrame'>\n",
            "Int64Index: 72636 entries, 0 to 72636\n",
            "Data columns (total 3 columns):\n",
            " #   Column            Non-Null Count  Dtype \n",
            "---  ------            --------------  ----- \n",
            " 0   LYLTY_CARD_NBR    72636 non-null  int64 \n",
            " 1   LIFESTAGE         72636 non-null  object\n",
            " 2   PREMIUM_CUSTOMER  72636 non-null  object\n",
            "dtypes: int64(1), object(2)\n",
            "memory usage: 2.2+ MB\n"
          ]
        },
        {
          "output_type": "execute_result",
          "data": {
            "text/plain": [
              "   LYLTY_CARD_NBR               LIFESTAGE PREMIUM_CUSTOMER\n",
              "0            1000   YOUNG SINGLES/COUPLES          Premium\n",
              "1            1002   YOUNG SINGLES/COUPLES       Mainstream\n",
              "2            1003          YOUNG FAMILIES           Budget\n",
              "3            1004   OLDER SINGLES/COUPLES       Mainstream\n",
              "4            1005  MIDAGE SINGLES/COUPLES       Mainstream"
            ],
            "text/html": [
              "\n",
              "  <div id=\"df-3802373c-960b-462d-8d96-7d4fcf1e8fa6\">\n",
              "    <div class=\"colab-df-container\">\n",
              "      <div>\n",
              "<style scoped>\n",
              "    .dataframe tbody tr th:only-of-type {\n",
              "        vertical-align: middle;\n",
              "    }\n",
              "\n",
              "    .dataframe tbody tr th {\n",
              "        vertical-align: top;\n",
              "    }\n",
              "\n",
              "    .dataframe thead th {\n",
              "        text-align: right;\n",
              "    }\n",
              "</style>\n",
              "<table border=\"1\" class=\"dataframe\">\n",
              "  <thead>\n",
              "    <tr style=\"text-align: right;\">\n",
              "      <th></th>\n",
              "      <th>LYLTY_CARD_NBR</th>\n",
              "      <th>LIFESTAGE</th>\n",
              "      <th>PREMIUM_CUSTOMER</th>\n",
              "    </tr>\n",
              "  </thead>\n",
              "  <tbody>\n",
              "    <tr>\n",
              "      <th>0</th>\n",
              "      <td>1000</td>\n",
              "      <td>YOUNG SINGLES/COUPLES</td>\n",
              "      <td>Premium</td>\n",
              "    </tr>\n",
              "    <tr>\n",
              "      <th>1</th>\n",
              "      <td>1002</td>\n",
              "      <td>YOUNG SINGLES/COUPLES</td>\n",
              "      <td>Mainstream</td>\n",
              "    </tr>\n",
              "    <tr>\n",
              "      <th>2</th>\n",
              "      <td>1003</td>\n",
              "      <td>YOUNG FAMILIES</td>\n",
              "      <td>Budget</td>\n",
              "    </tr>\n",
              "    <tr>\n",
              "      <th>3</th>\n",
              "      <td>1004</td>\n",
              "      <td>OLDER SINGLES/COUPLES</td>\n",
              "      <td>Mainstream</td>\n",
              "    </tr>\n",
              "    <tr>\n",
              "      <th>4</th>\n",
              "      <td>1005</td>\n",
              "      <td>MIDAGE SINGLES/COUPLES</td>\n",
              "      <td>Mainstream</td>\n",
              "    </tr>\n",
              "  </tbody>\n",
              "</table>\n",
              "</div>\n",
              "      <button class=\"colab-df-convert\" onclick=\"convertToInteractive('df-3802373c-960b-462d-8d96-7d4fcf1e8fa6')\"\n",
              "              title=\"Convert this dataframe to an interactive table.\"\n",
              "              style=\"display:none;\">\n",
              "        \n",
              "  <svg xmlns=\"http://www.w3.org/2000/svg\" height=\"24px\"viewBox=\"0 0 24 24\"\n",
              "       width=\"24px\">\n",
              "    <path d=\"M0 0h24v24H0V0z\" fill=\"none\"/>\n",
              "    <path d=\"M18.56 5.44l.94 2.06.94-2.06 2.06-.94-2.06-.94-.94-2.06-.94 2.06-2.06.94zm-11 1L8.5 8.5l.94-2.06 2.06-.94-2.06-.94L8.5 2.5l-.94 2.06-2.06.94zm10 10l.94 2.06.94-2.06 2.06-.94-2.06-.94-.94-2.06-.94 2.06-2.06.94z\"/><path d=\"M17.41 7.96l-1.37-1.37c-.4-.4-.92-.59-1.43-.59-.52 0-1.04.2-1.43.59L10.3 9.45l-7.72 7.72c-.78.78-.78 2.05 0 2.83L4 21.41c.39.39.9.59 1.41.59.51 0 1.02-.2 1.41-.59l7.78-7.78 2.81-2.81c.8-.78.8-2.07 0-2.86zM5.41 20L4 18.59l7.72-7.72 1.47 1.35L5.41 20z\"/>\n",
              "  </svg>\n",
              "      </button>\n",
              "      \n",
              "  <style>\n",
              "    .colab-df-container {\n",
              "      display:flex;\n",
              "      flex-wrap:wrap;\n",
              "      gap: 12px;\n",
              "    }\n",
              "\n",
              "    .colab-df-convert {\n",
              "      background-color: #E8F0FE;\n",
              "      border: none;\n",
              "      border-radius: 50%;\n",
              "      cursor: pointer;\n",
              "      display: none;\n",
              "      fill: #1967D2;\n",
              "      height: 32px;\n",
              "      padding: 0 0 0 0;\n",
              "      width: 32px;\n",
              "    }\n",
              "\n",
              "    .colab-df-convert:hover {\n",
              "      background-color: #E2EBFA;\n",
              "      box-shadow: 0px 1px 2px rgba(60, 64, 67, 0.3), 0px 1px 3px 1px rgba(60, 64, 67, 0.15);\n",
              "      fill: #174EA6;\n",
              "    }\n",
              "\n",
              "    [theme=dark] .colab-df-convert {\n",
              "      background-color: #3B4455;\n",
              "      fill: #D2E3FC;\n",
              "    }\n",
              "\n",
              "    [theme=dark] .colab-df-convert:hover {\n",
              "      background-color: #434B5C;\n",
              "      box-shadow: 0px 1px 3px 1px rgba(0, 0, 0, 0.15);\n",
              "      filter: drop-shadow(0px 1px 2px rgba(0, 0, 0, 0.3));\n",
              "      fill: #FFFFFF;\n",
              "    }\n",
              "  </style>\n",
              "\n",
              "      <script>\n",
              "        const buttonEl =\n",
              "          document.querySelector('#df-3802373c-960b-462d-8d96-7d4fcf1e8fa6 button.colab-df-convert');\n",
              "        buttonEl.style.display =\n",
              "          google.colab.kernel.accessAllowed ? 'block' : 'none';\n",
              "\n",
              "        async function convertToInteractive(key) {\n",
              "          const element = document.querySelector('#df-3802373c-960b-462d-8d96-7d4fcf1e8fa6');\n",
              "          const dataTable =\n",
              "            await google.colab.kernel.invokeFunction('convertToInteractive',\n",
              "                                                     [key], {});\n",
              "          if (!dataTable) return;\n",
              "\n",
              "          const docLinkHtml = 'Like what you see? Visit the ' +\n",
              "            '<a target=\"_blank\" href=https://colab.research.google.com/notebooks/data_table.ipynb>data table notebook</a>'\n",
              "            + ' to learn more about interactive tables.';\n",
              "          element.innerHTML = '';\n",
              "          dataTable['output_type'] = 'display_data';\n",
              "          await google.colab.output.renderOutput(dataTable, element);\n",
              "          const docLink = document.createElement('div');\n",
              "          docLink.innerHTML = docLinkHtml;\n",
              "          element.appendChild(docLink);\n",
              "        }\n",
              "      </script>\n",
              "    </div>\n",
              "  </div>\n",
              "  "
            ]
          },
          "metadata": {},
          "execution_count": 24
        }
      ]
    },
    {
      "cell_type": "code",
      "source": [
        "dfp.LIFESTAGE.value_counts()\n",
        "dfp.PREMIUM_CUSTOMER.value_counts()"
      ],
      "metadata": {
        "colab": {
          "base_uri": "https://localhost:8080/"
        },
        "id": "nKMWHZIcktlX",
        "outputId": "e673d63b-80e7-4a62-b037-2ed0d4102275"
      },
      "execution_count": null,
      "outputs": [
        {
          "output_type": "execute_result",
          "data": {
            "text/plain": [
              "Mainstream    29245\n",
              "Budget        24470\n",
              "Premium       18921\n",
              "Name: PREMIUM_CUSTOMER, dtype: int64"
            ]
          },
          "metadata": {},
          "execution_count": 25
        }
      ]
    },
    {
      "cell_type": "code",
      "source": [
        "new_df= pd.merge( dft, dfp, how=\"left\", on=[\"LYLTY_CARD_NBR\"] )\n",
        "new_df"
      ],
      "metadata": {
        "id": "AJinwnCGkHw3"
      },
      "execution_count": null,
      "outputs": []
    },
    {
      "cell_type": "code",
      "source": [
        "#new_df.head()\n",
        "new_df.isnull().sum()"
      ],
      "metadata": {
        "id": "LU-rOzacoZTZ"
      },
      "execution_count": null,
      "outputs": []
    },
    {
      "cell_type": "code",
      "source": [
        "new_df = new_df.sort_values(by='DATE').reset_index(drop=True)"
      ],
      "metadata": {
        "id": "wSe3JIMppV-e"
      },
      "execution_count": null,
      "outputs": []
    },
    {
      "cell_type": "code",
      "source": [
        "new_df = new_df.rename(columns={'PREMIUM_CUSTOMER': 'MEMBER_TYPE'})"
      ],
      "metadata": {
        "id": "jTbVmvDvp7cF"
      },
      "execution_count": null,
      "outputs": []
    },
    {
      "cell_type": "code",
      "source": [
        "new_df.to_csv('QVI_fulldata.csv')"
      ],
      "metadata": {
        "id": "guK89T5Ypk56"
      },
      "execution_count": null,
      "outputs": []
    },
    {
      "cell_type": "code",
      "source": [
        "new_df['DATE'] = pd.to_datetime( new_df['DATE'] )"
      ],
      "metadata": {
        "id": "ttGEaTuOqZeE"
      },
      "execution_count": null,
      "outputs": []
    },
    {
      "cell_type": "markdown",
      "source": [
        "## Data analysis on customer segments"
      ],
      "metadata": {
        "id": "V8hu0E9Hqwme"
      }
    },
    {
      "cell_type": "code",
      "source": [
        "new_df.head(10)"
      ],
      "metadata": {
        "id": "J-900se-rD7q"
      },
      "execution_count": null,
      "outputs": []
    },
    {
      "cell_type": "code",
      "source": [
        "# Store that gets the most customers\n",
        "\n",
        "new_df.groupby( new_df['STORE_NBR'] ).count()['LYLTY_CARD_NBR'].sort_values(ascending=False)"
      ],
      "metadata": {
        "id": "4SxMzWe6eug0"
      },
      "execution_count": null,
      "outputs": []
    },
    {
      "cell_type": "code",
      "source": [
        "# Getting total monthly sales ( Line Chart )\n",
        "\n",
        "total_sales=new_df.groupby( new_df['DATE'].dt.month ).sum()['TOT_SALES']\n",
        "\n",
        "plt.figure(figsize=(15,6))\n",
        "plt.xticks([1,2,3,4,5,6,7,8,9,10,11,12])\n",
        "\n",
        "plt.plot( [1,2,3,4,5,6,7,8,9,10,11,12], total_sales )  \n",
        "plt.show()"
      ],
      "metadata": {
        "id": "ldKzFU_GZaCJ"
      },
      "execution_count": null,
      "outputs": []
    },
    {
      "cell_type": "code",
      "source": [
        "# Top 10 products by quantity sold\n",
        "\n",
        "table1 = pd.pivot_table(new_df, index =['PROD_NAME'], values ='TOT_SALES', aggfunc = np.sum )\n",
        "print(table1.sort_values(by=['TOT_SALES'], ascending=False).head(20))\n",
        "\n",
        "table2 = pd.pivot_table(new_df, index =['PROD_NAME'], values ='PROD_QTY', aggfunc = np.sum )\n",
        "print(table2.sort_values(by=['PROD_QTY'], ascending=False).head(20))\n",
        "\n",
        "# We can see that top chips by quantities are mostly of 175g and by total sales are mostly above 300g"
      ],
      "metadata": {
        "id": "DHaqa-X3zbB_",
        "colab": {
          "base_uri": "https://localhost:8080/"
        },
        "outputId": "f5a6a8f8-4b1d-452d-fa92-0116d085bb28"
      },
      "execution_count": null,
      "outputs": [
        {
          "output_type": "stream",
          "name": "stdout",
          "text": [
            "                                          TOT_SALES\n",
            "PROD_NAME                                          \n",
            "Dorito Corn Chp     Supreme 380g            39052.0\n",
            "Smiths Crnkle Chip  Orgnl Big Bag 380g      36367.6\n",
            "Smiths Crinkle Chips Salt & Vinegar 330g    34804.2\n",
            "Kettle Mozzarella   Basil & Pesto 175g      34457.4\n",
            "Smiths Crinkle      Original 330g           34302.6\n",
            "Cheezels Cheese 330g                        34296.9\n",
            "Doritos Cheese      Supreme 330g            33390.6\n",
            "Kettle Sweet Chilli And Sour Cream 175g     33031.8\n",
            "Kettle Original 175g                        32740.2\n",
            "Kettle Sea Salt     And Vinegar 175g        32589.0\n",
            "Kettle Honey Soy    Chicken 175g            32578.2\n",
            "Kettle Chilli 175g                          31271.4\n",
            "Kettle Tortilla ChpsHny&Jlpno Chili 150g    29021.4\n",
            "Kettle Sensations   Camembert & Fig 150g    28308.4\n",
            "Twisties Chicken270g                        27853.0\n",
            "Kettle Tortilla ChpsBtroot&Ricotta 150g     27770.2\n",
            "Kettle Tortilla ChpsFeta&Garlic 150g        27627.6\n",
            "Twisties Cheese     270g                    27572.4\n",
            "Kettle Sensations   Siracha Lime 150g       27567.8\n",
            "Tostitos Splash Of  Lime 175g               27429.6\n",
            "                                          PROD_QTY\n",
            "PROD_NAME                                         \n",
            "Kettle Mozzarella   Basil & Pesto 175g        6381\n",
            "Kettle Tortilla ChpsHny&Jlpno Chili 150g      6309\n",
            "Cobs Popd Sea Salt  Chips 110g                6277\n",
            "Cobs Popd Swt/Chlli &Sr/Cream Chips 110g      6256\n",
            "Tostitos Splash Of  Lime 175g                 6234\n",
            "Tyrrells Crisps     Ched & Chives 165g        6227\n",
            "Kettle 135g Swt Pot Sea Salt                  6212\n",
            "Infuzions Thai SweetChili PotatoMix 110g      6206\n",
            "Thins Potato Chips  Hot & Spicy 175g          6185\n",
            "Doritos Corn Chips  Cheese Supreme 170g       6180\n",
            "Smiths Crnkle Chip  Orgnl Big Bag 380g        6164\n",
            "Kettle Sensations   Camembert & Fig 150g      6157\n",
            "Doritos Corn Chip Mexican Jalapeno 150g       6125\n",
            "Kettle Sweet Chilli And Sour Cream 175g       6120\n",
            "Pringles Barbeque   134g                      6112\n",
            "Dorito Corn Chp     Supreme 380g              6109\n",
            "Smiths Crinkle Chips Salt & Vinegar 330g      6106\n",
            "Thins Chips Light&  Tangy 175g                6095\n",
            "Doritos Corn Chip Southern Chicken 150g       6086\n",
            "Infuzions BBQ Rib   Prawn Crackers 110g       6084\n"
          ]
        }
      ]
    },
    {
      "cell_type": "code",
      "source": [
        "# wrong values\n",
        "#plt.hist(new_df['BRAND_NAME'], weights=new_df['PROD_QTY']);\n",
        "#plt.xticks(rotation = 90)\n",
        "#plt.show()"
      ],
      "metadata": {
        "id": "nKwUrxP4_m3o"
      },
      "execution_count": null,
      "outputs": []
    },
    {
      "cell_type": "code",
      "source": [
        "# Top 5 brands by product quantity sold\n",
        "\n",
        "table = pd.pivot_table(new_df, index =['BRAND_NAME'], values ='PROD_QTY', aggfunc = np.sum )\n",
        "table.sort_values(by=['PROD_QTY'], ascending=False).head(5)\n",
        "\n",
        "# Alternate method\n",
        "#new_df.groupby( new_df['BRAND_NAME'] ).agg('sum')['PROD_QTY'].sort_values(ascending=False)"
      ],
      "metadata": {
        "id": "w-5JoUEz2mSv",
        "colab": {
          "base_uri": "https://localhost:8080/",
          "height": 237
        },
        "outputId": "cfe5f93e-a933-4836-c92c-83122a6a8f79"
      },
      "execution_count": null,
      "outputs": [
        {
          "output_type": "execute_result",
          "data": {
            "text/plain": [
              "               PROD_QTY\n",
              "BRAND_NAME             \n",
              "Kettle            79051\n",
              "Smiths            57582\n",
              "Doritos           48331\n",
              "Pringles          48019\n",
              "Red Rock Deli     30891"
            ],
            "text/html": [
              "\n",
              "  <div id=\"df-aca52fd7-b45e-4dd8-9403-4a96d50cedb2\">\n",
              "    <div class=\"colab-df-container\">\n",
              "      <div>\n",
              "<style scoped>\n",
              "    .dataframe tbody tr th:only-of-type {\n",
              "        vertical-align: middle;\n",
              "    }\n",
              "\n",
              "    .dataframe tbody tr th {\n",
              "        vertical-align: top;\n",
              "    }\n",
              "\n",
              "    .dataframe thead th {\n",
              "        text-align: right;\n",
              "    }\n",
              "</style>\n",
              "<table border=\"1\" class=\"dataframe\">\n",
              "  <thead>\n",
              "    <tr style=\"text-align: right;\">\n",
              "      <th></th>\n",
              "      <th>PROD_QTY</th>\n",
              "    </tr>\n",
              "    <tr>\n",
              "      <th>BRAND_NAME</th>\n",
              "      <th></th>\n",
              "    </tr>\n",
              "  </thead>\n",
              "  <tbody>\n",
              "    <tr>\n",
              "      <th>Kettle</th>\n",
              "      <td>79051</td>\n",
              "    </tr>\n",
              "    <tr>\n",
              "      <th>Smiths</th>\n",
              "      <td>57582</td>\n",
              "    </tr>\n",
              "    <tr>\n",
              "      <th>Doritos</th>\n",
              "      <td>48331</td>\n",
              "    </tr>\n",
              "    <tr>\n",
              "      <th>Pringles</th>\n",
              "      <td>48019</td>\n",
              "    </tr>\n",
              "    <tr>\n",
              "      <th>Red Rock Deli</th>\n",
              "      <td>30891</td>\n",
              "    </tr>\n",
              "  </tbody>\n",
              "</table>\n",
              "</div>\n",
              "      <button class=\"colab-df-convert\" onclick=\"convertToInteractive('df-aca52fd7-b45e-4dd8-9403-4a96d50cedb2')\"\n",
              "              title=\"Convert this dataframe to an interactive table.\"\n",
              "              style=\"display:none;\">\n",
              "        \n",
              "  <svg xmlns=\"http://www.w3.org/2000/svg\" height=\"24px\"viewBox=\"0 0 24 24\"\n",
              "       width=\"24px\">\n",
              "    <path d=\"M0 0h24v24H0V0z\" fill=\"none\"/>\n",
              "    <path d=\"M18.56 5.44l.94 2.06.94-2.06 2.06-.94-2.06-.94-.94-2.06-.94 2.06-2.06.94zm-11 1L8.5 8.5l.94-2.06 2.06-.94-2.06-.94L8.5 2.5l-.94 2.06-2.06.94zm10 10l.94 2.06.94-2.06 2.06-.94-2.06-.94-.94-2.06-.94 2.06-2.06.94z\"/><path d=\"M17.41 7.96l-1.37-1.37c-.4-.4-.92-.59-1.43-.59-.52 0-1.04.2-1.43.59L10.3 9.45l-7.72 7.72c-.78.78-.78 2.05 0 2.83L4 21.41c.39.39.9.59 1.41.59.51 0 1.02-.2 1.41-.59l7.78-7.78 2.81-2.81c.8-.78.8-2.07 0-2.86zM5.41 20L4 18.59l7.72-7.72 1.47 1.35L5.41 20z\"/>\n",
              "  </svg>\n",
              "      </button>\n",
              "      \n",
              "  <style>\n",
              "    .colab-df-container {\n",
              "      display:flex;\n",
              "      flex-wrap:wrap;\n",
              "      gap: 12px;\n",
              "    }\n",
              "\n",
              "    .colab-df-convert {\n",
              "      background-color: #E8F0FE;\n",
              "      border: none;\n",
              "      border-radius: 50%;\n",
              "      cursor: pointer;\n",
              "      display: none;\n",
              "      fill: #1967D2;\n",
              "      height: 32px;\n",
              "      padding: 0 0 0 0;\n",
              "      width: 32px;\n",
              "    }\n",
              "\n",
              "    .colab-df-convert:hover {\n",
              "      background-color: #E2EBFA;\n",
              "      box-shadow: 0px 1px 2px rgba(60, 64, 67, 0.3), 0px 1px 3px 1px rgba(60, 64, 67, 0.15);\n",
              "      fill: #174EA6;\n",
              "    }\n",
              "\n",
              "    [theme=dark] .colab-df-convert {\n",
              "      background-color: #3B4455;\n",
              "      fill: #D2E3FC;\n",
              "    }\n",
              "\n",
              "    [theme=dark] .colab-df-convert:hover {\n",
              "      background-color: #434B5C;\n",
              "      box-shadow: 0px 1px 3px 1px rgba(0, 0, 0, 0.15);\n",
              "      filter: drop-shadow(0px 1px 2px rgba(0, 0, 0, 0.3));\n",
              "      fill: #FFFFFF;\n",
              "    }\n",
              "  </style>\n",
              "\n",
              "      <script>\n",
              "        const buttonEl =\n",
              "          document.querySelector('#df-aca52fd7-b45e-4dd8-9403-4a96d50cedb2 button.colab-df-convert');\n",
              "        buttonEl.style.display =\n",
              "          google.colab.kernel.accessAllowed ? 'block' : 'none';\n",
              "\n",
              "        async function convertToInteractive(key) {\n",
              "          const element = document.querySelector('#df-aca52fd7-b45e-4dd8-9403-4a96d50cedb2');\n",
              "          const dataTable =\n",
              "            await google.colab.kernel.invokeFunction('convertToInteractive',\n",
              "                                                     [key], {});\n",
              "          if (!dataTable) return;\n",
              "\n",
              "          const docLinkHtml = 'Like what you see? Visit the ' +\n",
              "            '<a target=\"_blank\" href=https://colab.research.google.com/notebooks/data_table.ipynb>data table notebook</a>'\n",
              "            + ' to learn more about interactive tables.';\n",
              "          element.innerHTML = '';\n",
              "          dataTable['output_type'] = 'display_data';\n",
              "          await google.colab.output.renderOutput(dataTable, element);\n",
              "          const docLink = document.createElement('div');\n",
              "          docLink.innerHTML = docLinkHtml;\n",
              "          element.appendChild(docLink);\n",
              "        }\n",
              "      </script>\n",
              "    </div>\n",
              "  </div>\n",
              "  "
            ]
          },
          "metadata": {},
          "execution_count": 136
        }
      ]
    },
    {
      "cell_type": "code",
      "source": [
        "# Top brands by total sales\n",
        "\n",
        "table = pd.pivot_table(new_df, index =['BRAND_NAME'], values ='TOT_SALES', aggfunc = np.sum )\n",
        "table.sort_values(by=['TOT_SALES'], ascending=False).head(5)"
      ],
      "metadata": {
        "id": "SHb9Fpal2zDf",
        "colab": {
          "base_uri": "https://localhost:8080/",
          "height": 237
        },
        "outputId": "40ed96ea-0726-47ba-97a8-95eda60752dc"
      },
      "execution_count": null,
      "outputs": [
        {
          "output_type": "execute_result",
          "data": {
            "text/plain": [
              "            TOT_SALES\n",
              "BRAND_NAME           \n",
              "Kettle       390239.8\n",
              "Doritos      226329.9\n",
              "Smiths       217492.0\n",
              "Pringles     177655.5\n",
              "Infuzions     99047.6"
            ],
            "text/html": [
              "\n",
              "  <div id=\"df-e5a31cc2-0609-49ca-84be-b23bd3da618a\">\n",
              "    <div class=\"colab-df-container\">\n",
              "      <div>\n",
              "<style scoped>\n",
              "    .dataframe tbody tr th:only-of-type {\n",
              "        vertical-align: middle;\n",
              "    }\n",
              "\n",
              "    .dataframe tbody tr th {\n",
              "        vertical-align: top;\n",
              "    }\n",
              "\n",
              "    .dataframe thead th {\n",
              "        text-align: right;\n",
              "    }\n",
              "</style>\n",
              "<table border=\"1\" class=\"dataframe\">\n",
              "  <thead>\n",
              "    <tr style=\"text-align: right;\">\n",
              "      <th></th>\n",
              "      <th>TOT_SALES</th>\n",
              "    </tr>\n",
              "    <tr>\n",
              "      <th>BRAND_NAME</th>\n",
              "      <th></th>\n",
              "    </tr>\n",
              "  </thead>\n",
              "  <tbody>\n",
              "    <tr>\n",
              "      <th>Kettle</th>\n",
              "      <td>390239.8</td>\n",
              "    </tr>\n",
              "    <tr>\n",
              "      <th>Doritos</th>\n",
              "      <td>226329.9</td>\n",
              "    </tr>\n",
              "    <tr>\n",
              "      <th>Smiths</th>\n",
              "      <td>217492.0</td>\n",
              "    </tr>\n",
              "    <tr>\n",
              "      <th>Pringles</th>\n",
              "      <td>177655.5</td>\n",
              "    </tr>\n",
              "    <tr>\n",
              "      <th>Infuzions</th>\n",
              "      <td>99047.6</td>\n",
              "    </tr>\n",
              "  </tbody>\n",
              "</table>\n",
              "</div>\n",
              "      <button class=\"colab-df-convert\" onclick=\"convertToInteractive('df-e5a31cc2-0609-49ca-84be-b23bd3da618a')\"\n",
              "              title=\"Convert this dataframe to an interactive table.\"\n",
              "              style=\"display:none;\">\n",
              "        \n",
              "  <svg xmlns=\"http://www.w3.org/2000/svg\" height=\"24px\"viewBox=\"0 0 24 24\"\n",
              "       width=\"24px\">\n",
              "    <path d=\"M0 0h24v24H0V0z\" fill=\"none\"/>\n",
              "    <path d=\"M18.56 5.44l.94 2.06.94-2.06 2.06-.94-2.06-.94-.94-2.06-.94 2.06-2.06.94zm-11 1L8.5 8.5l.94-2.06 2.06-.94-2.06-.94L8.5 2.5l-.94 2.06-2.06.94zm10 10l.94 2.06.94-2.06 2.06-.94-2.06-.94-.94-2.06-.94 2.06-2.06.94z\"/><path d=\"M17.41 7.96l-1.37-1.37c-.4-.4-.92-.59-1.43-.59-.52 0-1.04.2-1.43.59L10.3 9.45l-7.72 7.72c-.78.78-.78 2.05 0 2.83L4 21.41c.39.39.9.59 1.41.59.51 0 1.02-.2 1.41-.59l7.78-7.78 2.81-2.81c.8-.78.8-2.07 0-2.86zM5.41 20L4 18.59l7.72-7.72 1.47 1.35L5.41 20z\"/>\n",
              "  </svg>\n",
              "      </button>\n",
              "      \n",
              "  <style>\n",
              "    .colab-df-container {\n",
              "      display:flex;\n",
              "      flex-wrap:wrap;\n",
              "      gap: 12px;\n",
              "    }\n",
              "\n",
              "    .colab-df-convert {\n",
              "      background-color: #E8F0FE;\n",
              "      border: none;\n",
              "      border-radius: 50%;\n",
              "      cursor: pointer;\n",
              "      display: none;\n",
              "      fill: #1967D2;\n",
              "      height: 32px;\n",
              "      padding: 0 0 0 0;\n",
              "      width: 32px;\n",
              "    }\n",
              "\n",
              "    .colab-df-convert:hover {\n",
              "      background-color: #E2EBFA;\n",
              "      box-shadow: 0px 1px 2px rgba(60, 64, 67, 0.3), 0px 1px 3px 1px rgba(60, 64, 67, 0.15);\n",
              "      fill: #174EA6;\n",
              "    }\n",
              "\n",
              "    [theme=dark] .colab-df-convert {\n",
              "      background-color: #3B4455;\n",
              "      fill: #D2E3FC;\n",
              "    }\n",
              "\n",
              "    [theme=dark] .colab-df-convert:hover {\n",
              "      background-color: #434B5C;\n",
              "      box-shadow: 0px 1px 3px 1px rgba(0, 0, 0, 0.15);\n",
              "      filter: drop-shadow(0px 1px 2px rgba(0, 0, 0, 0.3));\n",
              "      fill: #FFFFFF;\n",
              "    }\n",
              "  </style>\n",
              "\n",
              "      <script>\n",
              "        const buttonEl =\n",
              "          document.querySelector('#df-e5a31cc2-0609-49ca-84be-b23bd3da618a button.colab-df-convert');\n",
              "        buttonEl.style.display =\n",
              "          google.colab.kernel.accessAllowed ? 'block' : 'none';\n",
              "\n",
              "        async function convertToInteractive(key) {\n",
              "          const element = document.querySelector('#df-e5a31cc2-0609-49ca-84be-b23bd3da618a');\n",
              "          const dataTable =\n",
              "            await google.colab.kernel.invokeFunction('convertToInteractive',\n",
              "                                                     [key], {});\n",
              "          if (!dataTable) return;\n",
              "\n",
              "          const docLinkHtml = 'Like what you see? Visit the ' +\n",
              "            '<a target=\"_blank\" href=https://colab.research.google.com/notebooks/data_table.ipynb>data table notebook</a>'\n",
              "            + ' to learn more about interactive tables.';\n",
              "          element.innerHTML = '';\n",
              "          dataTable['output_type'] = 'display_data';\n",
              "          await google.colab.output.renderOutput(dataTable, element);\n",
              "          const docLink = document.createElement('div');\n",
              "          docLink.innerHTML = docLinkHtml;\n",
              "          element.appendChild(docLink);\n",
              "        }\n",
              "      </script>\n",
              "    </div>\n",
              "  </div>\n",
              "  "
            ]
          },
          "metadata": {},
          "execution_count": 130
        }
      ]
    },
    {
      "cell_type": "code",
      "source": [
        "new_df.PACK_QNT.value_counts()"
      ],
      "metadata": {
        "colab": {
          "base_uri": "https://localhost:8080/"
        },
        "id": "d1K7xeivIMX_",
        "outputId": "3c485d84-a4f3-40c2-f040-87da3ae8ae69"
      },
      "execution_count": null,
      "outputs": [
        {
          "output_type": "execute_result",
          "data": {
            "text/plain": [
              "175    66390\n",
              "150    40203\n",
              "134    25102\n",
              "110    22387\n",
              "170    19983\n",
              "165    15297\n",
              "330    12540\n",
              "380     6416\n",
              "270     6285\n",
              "210     6272\n",
              "200     4473\n",
              "135     3257\n",
              "250     3169\n",
              "90      3008\n",
              "190     2995\n",
              "160     2970\n",
              "220     1564\n",
              "70      1507\n",
              "180     1468\n",
              "125     1454\n",
              "Name: PACK_QNT, dtype: int64"
            ]
          },
          "metadata": {},
          "execution_count": 137
        }
      ]
    },
    {
      "cell_type": "code",
      "source": [
        "new_df.head(5)"
      ],
      "metadata": {
        "id": "wEexSQKs95gc"
      },
      "execution_count": null,
      "outputs": []
    },
    {
      "cell_type": "code",
      "source": [
        "new_df.groupby( ['LIFESTAGE']  ).agg('sum')['TOT_SALES'].sort_values(ascending=False)"
      ],
      "metadata": {
        "id": "t0xj-aLolvsr"
      },
      "execution_count": null,
      "outputs": []
    },
    {
      "cell_type": "code",
      "source": [
        "new_df.groupby( ['MEMBER_TYPE']  ).agg('sum')['TOT_SALES'].sort_values(ascending=False)"
      ],
      "metadata": {
        "id": "WyiM9bvQlwbi"
      },
      "execution_count": null,
      "outputs": []
    },
    {
      "cell_type": "markdown",
      "source": [
        "### Analysis by customer Segments (Lifestage, member type)\n",
        "\n",
        "Now that the data has been cleaned, we want to look for interesting insights in the chip market to help recommend a business strategy.\n",
        "\n",
        "To do so, some metrics we want to consider are:\n",
        "\n",
        "1. Who spends the most on chips (total sales), describing customers by lifestage  and how premium their general purchasing behaviour is\n",
        "2. How many customers are in each segment\n",
        "3. How many chips are bought per customer by segment\n",
        "4. What's the average chip price by customer segment\n",
        "\n"
      ],
      "metadata": {
        "id": "tM2VvxXcks_H"
      }
    },
    {
      "cell_type": "code",
      "source": [
        "# 1.Total sales by customer segments  \n",
        "\n",
        "new_df.groupby( ['LIFESTAGE', 'MEMBER_TYPE']  ).agg('sum')['TOT_SALES'].sort_values(ascending=False)"
      ],
      "metadata": {
        "id": "vxuE_LUJNoge",
        "colab": {
          "base_uri": "https://localhost:8080/"
        },
        "outputId": "5b5cf8ca-c916-412f-9b6d-d6ea6c88a8a0"
      },
      "execution_count": null,
      "outputs": [
        {
          "output_type": "stream",
          "name": "stderr",
          "text": [
            "<ipython-input-48-f5cfb344b480>:2: FutureWarning: The default value of numeric_only in DataFrameGroupBy.sum is deprecated. In a future version, numeric_only will default to False. Either specify numeric_only or select only columns which should be valid for the function.\n",
            "  new_df.groupby( ['LIFESTAGE', 'MEMBER_TYPE']  ).agg('sum')['TOT_SALES'].sort_values(ascending=False)\n"
          ]
        },
        {
          "output_type": "execute_result",
          "data": {
            "text/plain": [
              "LIFESTAGE               MEMBER_TYPE\n",
              "OLDER FAMILIES          Budget         156863.75\n",
              "YOUNG SINGLES/COUPLES   Mainstream     147582.20\n",
              "RETIREES                Mainstream     145168.95\n",
              "YOUNG FAMILIES          Budget         129717.95\n",
              "OLDER SINGLES/COUPLES   Budget         127833.60\n",
              "                        Mainstream     124648.50\n",
              "                        Premium        123537.55\n",
              "RETIREES                Budget         105916.30\n",
              "OLDER FAMILIES          Mainstream      96413.55\n",
              "RETIREES                Premium         91296.65\n",
              "YOUNG FAMILIES          Mainstream      86338.25\n",
              "MIDAGE SINGLES/COUPLES  Mainstream      84734.25\n",
              "YOUNG FAMILIES          Premium         78571.70\n",
              "OLDER FAMILIES          Premium         75242.60\n",
              "YOUNG SINGLES/COUPLES   Budget          57122.10\n",
              "MIDAGE SINGLES/COUPLES  Premium         54443.85\n",
              "YOUNG SINGLES/COUPLES   Premium         39052.30\n",
              "MIDAGE SINGLES/COUPLES  Budget          33345.70\n",
              "NEW FAMILIES            Budget          20607.45\n",
              "                        Mainstream      15979.70\n",
              "                        Premium         10760.80\n",
              "Name: TOT_SALES, dtype: float64"
            ]
          },
          "metadata": {},
          "execution_count": 48
        }
      ]
    },
    {
      "cell_type": "markdown",
      "source": [
        "### Sales are mainly coming from \n",
        "\n",
        "1.   OLDER FAMILIES (Budget) - 156863.75 \n",
        "2.   YOUNG SINGLES/COUPLES (Mainstream) - 147582.20\n",
        "3.   RETIREES (Mainstream) - 145168.95\n"
      ],
      "metadata": {
        "id": "TYr0_ZpBUgKY"
      }
    },
    {
      "cell_type": "code",
      "source": [
        "# 2. Count of customers in segments  (need to find unique customers)\n",
        "\n",
        "new_df.groupby( ['LIFESTAGE','MEMBER_TYPE'] )['LYLTY_CARD_NBR'].agg('nunique').sort_values(ascending=False )\n",
        "\n",
        "#So, sales of There are more Young singles/couples (mainstream) and Retirees (mainstream) who buy chips. \n",
        "#This contributes to there being more sales to these customer segments but this is not a major driver for the Older families-budget segment.\n",
        "\n",
        "# So, older families(budget) maybe be buying more chip packet or high price chips\n",
        "# Lets check units bought per customer and avg price of chips bought per customer in above segments ."
      ],
      "metadata": {
        "id": "QAYNXoA4SqNe"
      },
      "execution_count": null,
      "outputs": []
    },
    {
      "cell_type": "code",
      "source": [
        "# 3. Calculating unit bought per customer in segments\n",
        "\n",
        "new_df.groupby( ['LIFESTAGE','MEMBER_TYPE'] )['PROD_QTY'].agg('sum').sort_values(ascending=False)\n",
        "\n",
        "\n",
        "# This shows that sales of older families is higher due to large quantity of chips bought\n",
        "\n",
        "# OLDER FAMILIES (Budget) - 41853        # YOUNG SINGLES/COUPLES (Mainstream) - 36225        # RETIREES (Mainstream) - 37677"
      ],
      "metadata": {
        "id": "nU6qDM2eWqHM",
        "colab": {
          "base_uri": "https://localhost:8080/"
        },
        "outputId": "c32b786f-95bf-4859-936e-3694d4b7b23c"
      },
      "execution_count": null,
      "outputs": [
        {
          "output_type": "execute_result",
          "data": {
            "text/plain": [
              "LIFESTAGE               MEMBER_TYPE\n",
              "OLDER FAMILIES          Budget         41853\n",
              "RETIREES                Mainstream     37677\n",
              "YOUNG SINGLES/COUPLES   Mainstream     36225\n",
              "YOUNG FAMILIES          Budget         34482\n",
              "OLDER SINGLES/COUPLES   Budget         32883\n",
              "                        Mainstream     32607\n",
              "                        Premium        31695\n",
              "RETIREES                Budget         26932\n",
              "OLDER FAMILIES          Mainstream     25804\n",
              "RETIREES                Premium        23266\n",
              "YOUNG FAMILIES          Mainstream     23194\n",
              "MIDAGE SINGLES/COUPLES  Mainstream     21213\n",
              "YOUNG FAMILIES          Premium        20901\n",
              "OLDER FAMILIES          Premium        20239\n",
              "YOUNG SINGLES/COUPLES   Budget         15500\n",
              "MIDAGE SINGLES/COUPLES  Premium        14400\n",
              "YOUNG SINGLES/COUPLES   Premium        10575\n",
              "MIDAGE SINGLES/COUPLES  Budget          8883\n",
              "NEW FAMILIES            Budget          5241\n",
              "                        Mainstream      4060\n",
              "                        Premium         2769\n",
              "Name: PROD_QTY, dtype: int64"
            ]
          },
          "metadata": {},
          "execution_count": 50
        }
      ]
    },
    {
      "cell_type": "code",
      "source": [
        "# Create a column for the unit price of chips purchased per transaction \n",
        "new_df['UNIT_PRICE'] = new_df['TOT_SALES']/new_df['PROD_QTY']\n",
        "\n",
        "# 4. Average unit sale per customer\n",
        "new_df.groupby( ['LIFESTAGE','MEMBER_TYPE'] )['UNIT_PRICE'].agg('mean').unstack('MEMBER_TYPE')\n"
      ],
      "metadata": {
        "id": "x8OKh3V3enVl"
      },
      "execution_count": null,
      "outputs": []
    },
    {
      "cell_type": "markdown",
      "source": [
        "## Deep dive into specific customer segments for insights\n",
        "\n",
        "We have found quite a few interesting insights that we can dive deeper into. \n",
        "We might want to target customer segments that contribute the most to sales to retain them or further increase sales. \n",
        "Let's look at Mainstream - young singles/couples. For instance, let's find out if they tend to buy a particular brand of chips."
      ],
      "metadata": {
        "id": "wU95KuDep8uv"
      }
    },
    {
      "cell_type": "code",
      "source": [
        "young_m = new_df[ new_df['LIFESTAGE']=='YOUNG SINGLES/COUPLES' ]\n",
        "\n",
        "young_m = young_m[ young_m['MEMBER_TYPE']=='Mainstream' ]"
      ],
      "metadata": {
        "id": "DagNU9GCm44P"
      },
      "execution_count": null,
      "outputs": []
    },
    {
      "cell_type": "code",
      "source": [
        "young_m.head()"
      ],
      "metadata": {
        "colab": {
          "base_uri": "https://localhost:8080/",
          "height": 513
        },
        "id": "XPiNywilqc4y",
        "outputId": "e907e0b2-94bd-4cf1-f773-1f3254a8d188"
      },
      "execution_count": null,
      "outputs": [
        {
          "output_type": "execute_result",
          "data": {
            "text/plain": [
              "         DATE  STORE_NBR  LYLTY_CARD_NBR  TXN_ID  PROD_NBR  \\\n",
              "28 2018-07-01          1            1482     563         8   \n",
              "31 2018-07-01         87           87024   85706        75   \n",
              "35 2018-07-01         86           86187   85295        74   \n",
              "48 2018-07-01          7            7200    7108        33   \n",
              "60 2018-07-01        164          164080  164291        25   \n",
              "\n",
              "                                   PROD_NAME  PROD_QTY  TOT_SALES PACK_QNT  \\\n",
              "28   Smiths Crinkle Cut  Chips Original 170g         1        2.9      170   \n",
              "31            Cobs Popd Sea Salt  Chips 110g         2        7.6      110   \n",
              "35             Tostitos Splash Of  Lime 175g         2        8.8      175   \n",
              "48  Cobs Popd Swt/Chlli &Sr/Cream Chips 110g         2        7.6      110   \n",
              "60            Pringles SourCream  Onion 134g         2        7.4      134   \n",
              "\n",
              "   BRAND_NAME              LIFESTAGE MEMBER_TYPE  UNIT_PRICE  \n",
              "28     Smiths  YOUNG SINGLES/COUPLES  Mainstream         2.9  \n",
              "31       Cobs  YOUNG SINGLES/COUPLES  Mainstream         3.8  \n",
              "35   Tostitos  YOUNG SINGLES/COUPLES  Mainstream         4.4  \n",
              "48       Cobs  YOUNG SINGLES/COUPLES  Mainstream         3.8  \n",
              "60   Pringles  YOUNG SINGLES/COUPLES  Mainstream         3.7  "
            ],
            "text/html": [
              "\n",
              "  <div id=\"df-5e556fd1-3e44-40b1-909b-ae85d959fe2a\">\n",
              "    <div class=\"colab-df-container\">\n",
              "      <div>\n",
              "<style scoped>\n",
              "    .dataframe tbody tr th:only-of-type {\n",
              "        vertical-align: middle;\n",
              "    }\n",
              "\n",
              "    .dataframe tbody tr th {\n",
              "        vertical-align: top;\n",
              "    }\n",
              "\n",
              "    .dataframe thead th {\n",
              "        text-align: right;\n",
              "    }\n",
              "</style>\n",
              "<table border=\"1\" class=\"dataframe\">\n",
              "  <thead>\n",
              "    <tr style=\"text-align: right;\">\n",
              "      <th></th>\n",
              "      <th>DATE</th>\n",
              "      <th>STORE_NBR</th>\n",
              "      <th>LYLTY_CARD_NBR</th>\n",
              "      <th>TXN_ID</th>\n",
              "      <th>PROD_NBR</th>\n",
              "      <th>PROD_NAME</th>\n",
              "      <th>PROD_QTY</th>\n",
              "      <th>TOT_SALES</th>\n",
              "      <th>PACK_QNT</th>\n",
              "      <th>BRAND_NAME</th>\n",
              "      <th>LIFESTAGE</th>\n",
              "      <th>MEMBER_TYPE</th>\n",
              "      <th>UNIT_PRICE</th>\n",
              "    </tr>\n",
              "  </thead>\n",
              "  <tbody>\n",
              "    <tr>\n",
              "      <th>28</th>\n",
              "      <td>2018-07-01</td>\n",
              "      <td>1</td>\n",
              "      <td>1482</td>\n",
              "      <td>563</td>\n",
              "      <td>8</td>\n",
              "      <td>Smiths Crinkle Cut  Chips Original 170g</td>\n",
              "      <td>1</td>\n",
              "      <td>2.9</td>\n",
              "      <td>170</td>\n",
              "      <td>Smiths</td>\n",
              "      <td>YOUNG SINGLES/COUPLES</td>\n",
              "      <td>Mainstream</td>\n",
              "      <td>2.9</td>\n",
              "    </tr>\n",
              "    <tr>\n",
              "      <th>31</th>\n",
              "      <td>2018-07-01</td>\n",
              "      <td>87</td>\n",
              "      <td>87024</td>\n",
              "      <td>85706</td>\n",
              "      <td>75</td>\n",
              "      <td>Cobs Popd Sea Salt  Chips 110g</td>\n",
              "      <td>2</td>\n",
              "      <td>7.6</td>\n",
              "      <td>110</td>\n",
              "      <td>Cobs</td>\n",
              "      <td>YOUNG SINGLES/COUPLES</td>\n",
              "      <td>Mainstream</td>\n",
              "      <td>3.8</td>\n",
              "    </tr>\n",
              "    <tr>\n",
              "      <th>35</th>\n",
              "      <td>2018-07-01</td>\n",
              "      <td>86</td>\n",
              "      <td>86187</td>\n",
              "      <td>85295</td>\n",
              "      <td>74</td>\n",
              "      <td>Tostitos Splash Of  Lime 175g</td>\n",
              "      <td>2</td>\n",
              "      <td>8.8</td>\n",
              "      <td>175</td>\n",
              "      <td>Tostitos</td>\n",
              "      <td>YOUNG SINGLES/COUPLES</td>\n",
              "      <td>Mainstream</td>\n",
              "      <td>4.4</td>\n",
              "    </tr>\n",
              "    <tr>\n",
              "      <th>48</th>\n",
              "      <td>2018-07-01</td>\n",
              "      <td>7</td>\n",
              "      <td>7200</td>\n",
              "      <td>7108</td>\n",
              "      <td>33</td>\n",
              "      <td>Cobs Popd Swt/Chlli &amp;Sr/Cream Chips 110g</td>\n",
              "      <td>2</td>\n",
              "      <td>7.6</td>\n",
              "      <td>110</td>\n",
              "      <td>Cobs</td>\n",
              "      <td>YOUNG SINGLES/COUPLES</td>\n",
              "      <td>Mainstream</td>\n",
              "      <td>3.8</td>\n",
              "    </tr>\n",
              "    <tr>\n",
              "      <th>60</th>\n",
              "      <td>2018-07-01</td>\n",
              "      <td>164</td>\n",
              "      <td>164080</td>\n",
              "      <td>164291</td>\n",
              "      <td>25</td>\n",
              "      <td>Pringles SourCream  Onion 134g</td>\n",
              "      <td>2</td>\n",
              "      <td>7.4</td>\n",
              "      <td>134</td>\n",
              "      <td>Pringles</td>\n",
              "      <td>YOUNG SINGLES/COUPLES</td>\n",
              "      <td>Mainstream</td>\n",
              "      <td>3.7</td>\n",
              "    </tr>\n",
              "  </tbody>\n",
              "</table>\n",
              "</div>\n",
              "      <button class=\"colab-df-convert\" onclick=\"convertToInteractive('df-5e556fd1-3e44-40b1-909b-ae85d959fe2a')\"\n",
              "              title=\"Convert this dataframe to an interactive table.\"\n",
              "              style=\"display:none;\">\n",
              "        \n",
              "  <svg xmlns=\"http://www.w3.org/2000/svg\" height=\"24px\"viewBox=\"0 0 24 24\"\n",
              "       width=\"24px\">\n",
              "    <path d=\"M0 0h24v24H0V0z\" fill=\"none\"/>\n",
              "    <path d=\"M18.56 5.44l.94 2.06.94-2.06 2.06-.94-2.06-.94-.94-2.06-.94 2.06-2.06.94zm-11 1L8.5 8.5l.94-2.06 2.06-.94-2.06-.94L8.5 2.5l-.94 2.06-2.06.94zm10 10l.94 2.06.94-2.06 2.06-.94-2.06-.94-.94-2.06-.94 2.06-2.06.94z\"/><path d=\"M17.41 7.96l-1.37-1.37c-.4-.4-.92-.59-1.43-.59-.52 0-1.04.2-1.43.59L10.3 9.45l-7.72 7.72c-.78.78-.78 2.05 0 2.83L4 21.41c.39.39.9.59 1.41.59.51 0 1.02-.2 1.41-.59l7.78-7.78 2.81-2.81c.8-.78.8-2.07 0-2.86zM5.41 20L4 18.59l7.72-7.72 1.47 1.35L5.41 20z\"/>\n",
              "  </svg>\n",
              "      </button>\n",
              "      \n",
              "  <style>\n",
              "    .colab-df-container {\n",
              "      display:flex;\n",
              "      flex-wrap:wrap;\n",
              "      gap: 12px;\n",
              "    }\n",
              "\n",
              "    .colab-df-convert {\n",
              "      background-color: #E8F0FE;\n",
              "      border: none;\n",
              "      border-radius: 50%;\n",
              "      cursor: pointer;\n",
              "      display: none;\n",
              "      fill: #1967D2;\n",
              "      height: 32px;\n",
              "      padding: 0 0 0 0;\n",
              "      width: 32px;\n",
              "    }\n",
              "\n",
              "    .colab-df-convert:hover {\n",
              "      background-color: #E2EBFA;\n",
              "      box-shadow: 0px 1px 2px rgba(60, 64, 67, 0.3), 0px 1px 3px 1px rgba(60, 64, 67, 0.15);\n",
              "      fill: #174EA6;\n",
              "    }\n",
              "\n",
              "    [theme=dark] .colab-df-convert {\n",
              "      background-color: #3B4455;\n",
              "      fill: #D2E3FC;\n",
              "    }\n",
              "\n",
              "    [theme=dark] .colab-df-convert:hover {\n",
              "      background-color: #434B5C;\n",
              "      box-shadow: 0px 1px 3px 1px rgba(0, 0, 0, 0.15);\n",
              "      filter: drop-shadow(0px 1px 2px rgba(0, 0, 0, 0.3));\n",
              "      fill: #FFFFFF;\n",
              "    }\n",
              "  </style>\n",
              "\n",
              "      <script>\n",
              "        const buttonEl =\n",
              "          document.querySelector('#df-5e556fd1-3e44-40b1-909b-ae85d959fe2a button.colab-df-convert');\n",
              "        buttonEl.style.display =\n",
              "          google.colab.kernel.accessAllowed ? 'block' : 'none';\n",
              "\n",
              "        async function convertToInteractive(key) {\n",
              "          const element = document.querySelector('#df-5e556fd1-3e44-40b1-909b-ae85d959fe2a');\n",
              "          const dataTable =\n",
              "            await google.colab.kernel.invokeFunction('convertToInteractive',\n",
              "                                                     [key], {});\n",
              "          if (!dataTable) return;\n",
              "\n",
              "          const docLinkHtml = 'Like what you see? Visit the ' +\n",
              "            '<a target=\"_blank\" href=https://colab.research.google.com/notebooks/data_table.ipynb>data table notebook</a>'\n",
              "            + ' to learn more about interactive tables.';\n",
              "          element.innerHTML = '';\n",
              "          dataTable['output_type'] = 'display_data';\n",
              "          await google.colab.output.renderOutput(dataTable, element);\n",
              "          const docLink = document.createElement('div');\n",
              "          docLink.innerHTML = docLinkHtml;\n",
              "          element.appendChild(docLink);\n",
              "        }\n",
              "      </script>\n",
              "    </div>\n",
              "  </div>\n",
              "  "
            ]
          },
          "metadata": {},
          "execution_count": 66
        }
      ]
    },
    {
      "cell_type": "code",
      "source": [
        "# Top brands by total sales\n",
        "young_m.BRAND_NAME.value_counts().plot.bar(figsize=(10, 5))\n",
        "plt.show()"
      ],
      "metadata": {
        "colab": {
          "base_uri": "https://localhost:8080/",
          "height": 543
        },
        "id": "UBh5Rt-ekGix",
        "outputId": "e7c9dc13-b9f6-46f1-9dd5-a7ee74433960"
      },
      "execution_count": null,
      "outputs": [
        {
          "output_type": "display_data",
          "data": {
            "text/plain": [
              "<Figure size 1000x500 with 1 Axes>"
            ],
            "image/png": "[encoded data removed]"
          },
          "metadata": {}
        }
      ]
    },
    {
      "cell_type": "code",
      "source": [
        "# Top brands by total sales\n",
        "\n",
        "young_m.groupby(\"BRAND_NAME\").agg(\"sum\")[ 'TOT_SALES' ].sort_values(ascending=False).head(10)"
      ],
      "metadata": {
        "colab": {
          "base_uri": "https://localhost:8080/"
        },
        "id": "DgcRpuJy0LSO",
        "outputId": "82053f6e-0bd4-471c-ef46-0ead091913a8"
      },
      "execution_count": null,
      "outputs": [
        {
          "output_type": "stream",
          "name": "stderr",
          "text": [
            "<ipython-input-99-da8cfeb4aff5>:1: FutureWarning: The default value of numeric_only in DataFrameGroupBy.sum is deprecated. In a future version, numeric_only will default to False. Either specify numeric_only or select only columns which should be valid for the function.\n",
            "  young_m.groupby(\"BRAND_NAME\").agg(\"sum\")[ 'TOT_SALES' ].sort_values(ascending=False).head(10)\n"
          ]
        },
        {
          "output_type": "execute_result",
          "data": {
            "text/plain": [
              "BRAND_NAME\n",
              "Kettle       35423.6\n",
              "Doritos      20925.9\n",
              "Pringles     16006.2\n",
              "Smiths       14958.9\n",
              "Infuzions     8749.4\n",
              "Twisties      7539.8\n",
              "Tostitos      7238.0\n",
              "Thins         7217.1\n",
              "Cobs          6144.6\n",
              "Tyrrells      4800.6\n",
              "Name: TOT_SALES, dtype: float64"
            ]
          },
          "metadata": {},
          "execution_count": 99
        }
      ]
    },
    {
      "cell_type": "code",
      "source": [
        "print('Top Products by (total quantities) sold - \\n\\n',young_m.groupby(\"PROD_NAME\").agg(\"sum\")[ 'PROD_QTY' ].sort_values(ascending=False).head(20))\n",
        "\n",
        "print('\\n\\nTop Products (by total sales) sold -\\n\\n',young_m.groupby(\"PROD_NAME\").agg(\"sum\")[ 'TOT_SALES' ].sort_values(ascending=False).head(15))"
      ],
      "metadata": {
        "colab": {
          "base_uri": "https://localhost:8080/"
        },
        "id": "o9IZ5-07s21g",
        "outputId": "8e1b5037-b298-42e1-ecfe-5f0c3d6333d0"
      },
      "execution_count": null,
      "outputs": [
        {
          "output_type": "stream",
          "name": "stdout",
          "text": [
            "Top Products by (total quantities) sold - \n",
            "\n",
            " PROD_NAME\n",
            "Kettle Mozzarella   Basil & Pesto 175g      626\n",
            "Doritos Corn Chips  Cheese Supreme 170g     621\n",
            "Tostitos Splash Of  Lime 175g               619\n",
            "Kettle Tortilla ChpsHny&Jlpno Chili 150g    604\n",
            "Smiths Crnkle Chip  Orgnl Big Bag 380g      596\n",
            "Twisties Cheese     270g                    586\n",
            "Smiths Crinkle Chips Salt & Vinegar 330g    582\n",
            "Tyrrells Crisps     Ched & Chives 165g      580\n",
            "Pringles Mystery    Flavour 134g            577\n",
            "Infuzions Thai SweetChili PotatoMix 110g    576\n",
            "Kettle Sensations   Camembert & Fig 150g    575\n",
            "Pringles Sthrn FriedChicken 134g            574\n",
            "Doritos Corn Chips  Original 170g           573\n",
            "Kettle Sweet Chilli And Sour Cream 175g     572\n",
            "Kettle Sensations   BBQ&Maple 150g          571\n",
            "Dorito Corn Chp     Supreme 380g            569\n",
            "Pringles Chicken    Salt Crips 134g         568\n",
            "Twisties Chicken270g                        567\n",
            "Tyrrells Crisps     Lightly Salted 165g     563\n",
            "Infuzions BBQ Rib   Prawn Crackers 110g     562\n",
            "Name: PROD_QTY, dtype: int64\n",
            "\n",
            "\n",
            "Top Products (by total sales) sold -\n",
            "\n",
            " PROD_NAME\n",
            "Dorito Corn Chp     Supreme 380g            3659.5\n",
            "Smiths Crnkle Chip  Orgnl Big Bag 380g      3516.4\n",
            "Kettle Mozzarella   Basil & Pesto 175g      3380.4\n",
            "Smiths Crinkle Chips Salt & Vinegar 330g    3317.4\n",
            "Doritos Cheese      Supreme 330g            3186.3\n",
            "Cheezels Cheese 330g                        3089.4\n",
            "Kettle Sweet Chilli And Sour Cream 175g     3088.8\n",
            "Smiths Crinkle      Original 330g           3060.9\n",
            "Kettle Original 175g                        2964.6\n",
            "Kettle Honey Soy    Chicken 175g            2916.0\n",
            "Kettle Sea Salt     And Vinegar 175g        2851.2\n",
            "Kettle Tortilla ChpsHny&Jlpno Chili 150g    2778.4\n",
            "Doritos Corn Chips  Cheese Supreme 170g     2732.4\n",
            "Tostitos Splash Of  Lime 175g               2723.6\n",
            "Twisties Cheese     270g                    2695.6\n",
            "Name: TOT_SALES, dtype: float64\n"
          ]
        },
        {
          "output_type": "stream",
          "name": "stderr",
          "text": [
            "<ipython-input-127-68f60700795f>:1: FutureWarning: The default value of numeric_only in DataFrameGroupBy.sum is deprecated. In a future version, numeric_only will default to False. Either specify numeric_only or select only columns which should be valid for the function.\n",
            "  print('Top Products by (total quantities) sold - \\n\\n',young_m.groupby(\"PROD_NAME\").agg(\"sum\")[ 'PROD_QTY' ].sort_values(ascending=False).head(20))\n",
            "<ipython-input-127-68f60700795f>:3: FutureWarning: The default value of numeric_only in DataFrameGroupBy.sum is deprecated. In a future version, numeric_only will default to False. Either specify numeric_only or select only columns which should be valid for the function.\n",
            "  print('\\n\\nTop Products (by total sales) sold -\\n\\n',young_m.groupby(\"PROD_NAME\").agg(\"sum\")[ 'TOT_SALES' ].sort_values(ascending=False).head(15))\n"
          ]
        }
      ]
    },
    {
      "cell_type": "markdown",
      "source": [
        "We see that Kettle, Doritos, Smiths, Pringles brand chips are most bought.\n",
        "But Prigles are not seen in top 10 most sold by quantities.\n",
        "So lets see if pringles have most chips types."
      ],
      "metadata": {
        "id": "EzmX1hebyHYu"
      }
    },
    {
      "cell_type": "code",
      "source": [
        "young_m.groupby(\"BRAND_NAME\").agg(\"nunique\")['PROD_NAME'].sort_values(ascending=False)"
      ],
      "metadata": {
        "colab": {
          "base_uri": "https://localhost:8080/"
        },
        "id": "oQlJEcbGy9Dn",
        "outputId": "73b2a21b-b7e3-4ae2-e925-6d8bdbc5f422"
      },
      "execution_count": null,
      "outputs": [
        {
          "output_type": "execute_result",
          "data": {
            "text/plain": [
              "BRAND_NAME\n",
              "Smiths             17\n",
              "Kettle             13\n",
              "Red Rock Deli      11\n",
              "Woolworths          8\n",
              "Doritos             8\n",
              "Pringles            8\n",
              "Infuzions           5\n",
              "Thins               5\n",
              "Natural Chip Co     5\n",
              "Grain Waves         3\n",
              "CCs                 3\n",
              "Cobs                3\n",
              "Tostitos            3\n",
              "Twisties            3\n",
              "Cheezels            2\n",
              "Sunbites            2\n",
              "Cheetos             2\n",
              "Tyrrells            2\n",
              "French              1\n",
              "Burger              1\n",
              "Name: PROD_NAME, dtype: int64"
            ]
          },
          "metadata": {},
          "execution_count": 97
        }
      ]
    },
    {
      "cell_type": "markdown",
      "source": [
        "* We see pringles and doritos doesn't have most types still they are most sold\n",
        "* Also we see that infusions(5) tosties(3) and twisties(3) have so less types of chips still they have comparitively good sales. \n",
        "\n",
        "\n"
      ],
      "metadata": {
        "id": "RK-s0q1Tzqk-"
      }
    },
    {
      "cell_type": "code",
      "source": [
        "# Most sold pack sizes\n",
        "\n",
        "young_m.PACK_QNT.value_counts()"
      ],
      "metadata": {
        "colab": {
          "base_uri": "https://localhost:8080/"
        },
        "id": "4NyKFj-L1dNH",
        "outputId": "5537814a-2bff-4f4f-836c-092242ac86df"
      },
      "execution_count": null,
      "outputs": [
        {
          "output_type": "execute_result",
          "data": {
            "text/plain": [
              "175    4997\n",
              "150    3080\n",
              "134    2315\n",
              "110    2051\n",
              "170    1575\n",
              "330    1195\n",
              "165    1102\n",
              "380     626\n",
              "270     620\n",
              "210     576\n",
              "135     290\n",
              "250     280\n",
              "200     179\n",
              "190     148\n",
              "160     128\n",
              "90      128\n",
              "180      70\n",
              "70       63\n",
              "220      62\n",
              "125      59\n",
              "Name: PACK_QNT, dtype: int64"
            ]
          },
          "metadata": {},
          "execution_count": 107
        }
      ]
    },
    {
      "cell_type": "markdown",
      "source": [
        "Most pack size sold are  175, 150, 134, 110.\n"
      ],
      "metadata": {
        "id": "Ts08Fk7239ul"
      }
    },
    {
      "cell_type": "code",
      "source": [
        "print(young_m[ young_m['BRAND_NAME']=='Kettle' ].PACK_QNT.value_counts(),'\\n')\n",
        "print(young_m[ young_m['BRAND_NAME']=='Pringles' ].PACK_QNT.value_counts(),'\\n')\n",
        "print(young_m[ young_m['BRAND_NAME']=='Doritos' ].PACK_QNT.value_counts(),'\\n')\n",
        "print(young_m[ young_m['BRAND_NAME']=='Smiths' ].PACK_QNT.value_counts(),'\\n')\n"
      ],
      "metadata": {
        "colab": {
          "base_uri": "https://localhost:8080/"
        },
        "id": "6OeNrVhQ65W1",
        "outputId": "091f8300-54dc-483f-f780-6f5d804c3b05"
      },
      "execution_count": null,
      "outputs": [
        {
          "output_type": "stream",
          "name": "stdout",
          "text": [
            "150    1778\n",
            "175    1776\n",
            "135     290\n",
            "Name: PACK_QNT, dtype: int64 \n",
            "\n",
            "134    2315\n",
            "Name: PACK_QNT, dtype: int64 \n",
            "\n",
            "170    1211\n",
            "150     562\n",
            "330     303\n",
            "380     303\n",
            "Name: PACK_QNT, dtype: int64 \n",
            "\n",
            "330    605\n",
            "170    364\n",
            "175    355\n",
            "380    323\n",
            "150    274\n",
            "Name: PACK_QNT, dtype: int64 \n",
            "\n"
          ]
        }
      ]
    },
    {
      "cell_type": "markdown",
      "source": [
        "* Most selling brands have most selling pack size- 170\n",
        "* But Smiths have their most selling pack size- 605"
      ],
      "metadata": {
        "id": "cFiQ9oPV84ev"
      }
    },
    {
      "cell_type": "code",
      "source": [],
      "metadata": {
        "id": "3P5Wm2X076Dv"
      },
      "execution_count": null,
      "outputs": []
    }
  ],
  "metadata": {
    "colab": {
      "provenance": []
    },
    "kernelspec": {
      "display_name": "Python 3",
      "name": "python3"
    },
    "language_info": {
      "name": "python"
    }
  },
  "nbformat": 4,
  "nbformat_minor": 0
}